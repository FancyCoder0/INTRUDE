{
 "cells": [
  {
   "cell_type": "code",
   "execution_count": 8,
   "metadata": {},
   "outputs": [
    {
     "name": "stdout",
     "output_type": "stream",
     "text": [
      "    title      desc SpearmanrResult(correlation=0.19384078434739674, pvalue=8.034138335013026e-226)\n",
      "    title      code SpearmanrResult(correlation=0.3374802970280231, pvalue=0.0)\n",
      "    title file_list SpearmanrResult(correlation=0.3449635325145415, pvalue=0.0)\n",
      "    title  location SpearmanrResult(correlation=0.3957808239103519, pvalue=0.0)\n",
      "    title   pattern SpearmanrResult(correlation=0.056660250068106266, pvalue=1.4601913563283742e-20)\n",
      "     desc      code SpearmanrResult(correlation=0.2026309057654595, pvalue=5.2005808671480986e-247)\n",
      "     desc file_list SpearmanrResult(correlation=0.19799877452929784, pvalue=1.019554716480355e-235)\n",
      "     desc  location SpearmanrResult(correlation=0.18745306935257305, pvalue=4.665633005595681e-211)\n",
      "     desc   pattern SpearmanrResult(correlation=-0.015110408996540824, pvalue=0.013241332371787772)\n",
      "     code file_list SpearmanrResult(correlation=0.6072290538702044, pvalue=0.0)\n",
      "     code  location SpearmanrResult(correlation=0.5816830803015556, pvalue=0.0)\n",
      "     code   pattern SpearmanrResult(correlation=0.12968573628968033, pvalue=3.91823757007416e-101)\n",
      "file_list  location SpearmanrResult(correlation=0.7017696153405736, pvalue=0.0)\n",
      "file_list   pattern SpearmanrResult(correlation=0.1469675811470666, pvalue=1.2357753211049342e-129)\n",
      " location   pattern SpearmanrResult(correlation=0.14929983786039067, pvalue=9.170796455118449e-134)\n"
     ]
    }
   ],
   "source": [
    "from util import localfile_tool\n",
    "\n",
    "dataset = [\n",
    "    ['data/rly_false_pairs.txt', 0, 'train'],\n",
    "    ['data/small_part_msr.txt', 1, 'train'],\n",
    "    ['data/rly_true_pairs.txt', 1, 'train'],\n",
    "    ['data/small_part_negative.txt', 0, 'test'],\n",
    "    ['data/small2_part_msr.txt', 1, 'test'],\n",
    "    ['data/msr_positive_pairs.txt', 1, 'train'],\n",
    "    ['data/big_false_data.txt', 1, 'train']\n",
    "]\n",
    "\n",
    "ff = ['title','desc','code','file_list','location', 'pattern']\n",
    "X = []\n",
    "for data in dataset:\n",
    "    fname=data[0].replace('.txt','')+'_feature_vector_all_clues_X.json'\n",
    "    with open(fname) as f:\n",
    "        X += localfile_tool.get_file(fname)\n",
    "\n",
    "\n",
    "from scipy.stats import *\n",
    "import numpy as np\n",
    "\n",
    "X = np.array(X)\n",
    "\n",
    "num = len(X[0])\n",
    "\n",
    "for i in range(num):\n",
    "    for j in range(i + 1, num):\n",
    "        t = spearmanr(X[:,i], X[:,j])\n",
    "        print('%09s %09s' % (ff[i],ff[j]),t)\n"
   ]
  },
  {
   "cell_type": "code",
   "execution_count": null,
   "metadata": {},
   "outputs": [],
   "source": []
  }
 ],
 "metadata": {
  "kernelspec": {
   "display_name": "Python 3",
   "language": "python",
   "name": "python3"
  },
  "language_info": {
   "codemirror_mode": {
    "name": "ipython",
    "version": 3
   },
   "file_extension": ".py",
   "mimetype": "text/x-python",
   "name": "python",
   "nbconvert_exporter": "python",
   "pygments_lexer": "ipython3",
   "version": "3.6.5"
  }
 },
 "nbformat": 4,
 "nbformat_minor": 2
}
