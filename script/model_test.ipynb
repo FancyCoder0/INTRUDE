{
 "cells": [
  {
   "cell_type": "code",
   "execution_count": 1,
   "metadata": {
    "scrolled": false
   },
   "outputs": [
    {
     "name": "stdout",
     "output_type": "stream",
     "text": [
      "text_sim_type= lsi\n",
      "code_sim_type= tfidf\n",
      "extract_sim_type= ori_and_overlap\n",
      "Data Type: ok_text_lsi_code_tfidf_ori_and_overlap\n",
      "Data Loading.........\n",
      "Model Data Input= /home/luyao/PR_get/INTRUDE/data/clf/first_msr_pairs.txt\n",
      "warning: feature vectore already exists! /home/luyao/PR_get/INTRUDE/data/clf/first_msr_pairs_feature_vector_ok_text_lsi_code_tfidf_ori_and_overlap\n",
      "Model Data Input= /home/luyao/PR_get/INTRUDE/data/clf/second_msr_pairs.txt\n",
      "warning: feature vectore already exists! /home/luyao/PR_get/INTRUDE/data/clf/second_msr_pairs_feature_vector_ok_text_lsi_code_tfidf_ori_and_overlap\n",
      "Model Data Input= /home/luyao/PR_get/INTRUDE/data/clf/first_nondup.txt\n",
      "warning: feature vectore already exists! /home/luyao/PR_get/INTRUDE/data/clf/first_nondup_feature_vector_ok_text_lsi_code_tfidf_ori_and_overlap\n",
      "Model Data Input= /home/luyao/PR_get/INTRUDE/data/clf/second_nondup.txt\n",
      "warning: feature vectore already exists! /home/luyao/PR_get/INTRUDE/data/clf/second_nondup_feature_vector_ok_text_lsi_code_tfidf_ori_and_overlap\n",
      "--------------------------\n",
      "Model: training_set 50618 testing_set 50737 feature_length= 9\n",
      "------ model:  boost ------\n",
      "[0.22  0.42  0.105 0.005 0.045 0.05  0.035 0.055 0.065]\n",
      "Mean Accuracy: 0.9942645406705166\n",
      "Average precision score: 0.9191\n",
      "F1 score: 0.8643\n",
      "threshold acc = 0.9942645406705166\n",
      "threshold re-call = 0.8067885117493473\n",
      "threshold precision = 0.9307228915662651\n"
     ]
    },
    {
     "data": {
      "image/png": "[encoded data removed]",
      "text/plain": [
       "<Figure size 432x288 with 1 Axes>"
      ]
     },
     "metadata": {},
     "output_type": "display_data"
    }
   ],
   "source": [
    "%matplotlib inline\n",
    "import sys\n",
    "sys.path.append('/home/luyao/PR_get/INTRUDE')\n",
    "\n",
    "from clf import *\n",
    "\n",
    "# c = classify('SVM')\n",
    "c = classify('boost')"
   ]
  },
  {
   "cell_type": "code",
   "execution_count": null,
   "metadata": {
    "scrolled": false
   },
   "outputs": [],
   "source": [
    "%matplotlib inline\n",
    "import main\n",
    "\n",
    "print('probability type', file=open('data/true_output.txt','w'))\n",
    "print('probability type', file=open('data/false_output.txt','w'))\n",
    "print('probability type', file=open('data/all_output.txt','w'))\n",
    "\n",
    "c = main.classify() # all\n",
    "c = main.classify([1,1,0,0,0,0,0]) # title+desc"
   ]
  },
  {
   "cell_type": "code",
   "execution_count": null,
   "metadata": {
    "scrolled": false
   },
   "outputs": [],
   "source": [
    "%matplotlib inline\n",
    "import main\n",
    "\n",
    "print('probability type', file=open('data/true_output.txt','w'))\n",
    "print('probability type', file=open('data/false_output.txt','w'))\n",
    "print('probability type', file=open('data/all_output.txt','w'))\n",
    "\n",
    "c = main.classify() # all\n",
    "c = main.classify([1,1,0,0,0,0,0]) # title+desc"
   ]
  },
  {
   "cell_type": "code",
   "execution_count": null,
   "metadata": {
    "scrolled": false
   },
   "outputs": [],
   "source": [
    "%matplotlib inline\n",
    "import main\n",
    "\n",
    "print('probability type', file=open('data/true_output.txt','w'))\n",
    "print('probability type', file=open('data/false_output.txt','w'))\n",
    "print('probability type', file=open('data/all_output.txt','w'))\n",
    "\n",
    "# only with one clues\n",
    "for i in range(7):\n",
    "    print('-------------------')\n",
    "    \n",
    "    t = [0 for j in range(7)]\n",
    "    t[i] = 1\n",
    "    c = main.classify(t)"
   ]
  },
  {
   "cell_type": "code",
   "execution_count": null,
   "metadata": {
    "scrolled": false
   },
   "outputs": [],
   "source": [
    "%matplotlib inline\n",
    "import main\n",
    "\n",
    "print('probability type', file=open('data/true_output.txt','w'))\n",
    "print('probability type', file=open('data/false_output.txt','w'))\n",
    "print('probability type', file=open('data/all_output.txt','w'))\n",
    "\n",
    "\n",
    "c = main.classify()\n",
    "\n",
    "# remove one clues\n",
    "for i in range(7):\n",
    "    print('-------------------')\n",
    "    t = [1 for j in range(7)]\n",
    "    t[i] = 0\n",
    "    c = main.classify(t)\n"
   ]
  },
  {
   "cell_type": "code",
   "execution_count": null,
   "metadata": {
    "scrolled": true
   },
   "outputs": [],
   "source": [
    "import main\n",
    "from util.localfile_tool import *\n",
    "\n",
    "clf = main.classify() # all\n",
    "\n",
    "X_test = get_file('data/improve_false_data_msr_positive_pairs_tfidf_X.json')\n",
    "y_test = get_file('data/improve_false_data_msr_positive_pairs_tfidf_y.json')\n",
    "\n",
    "ran = open('data/improve_false_data.txt').readlines()\n",
    "msr = open('data/msr_positive_pairs.txt').readlines()\n",
    "\n",
    "l0 = len(ran)\n",
    "\n",
    "pre_y = clf.predict(X_test)\n",
    "prog_y = clf.predict_proba(X_test)\n",
    "\n",
    "for i in range(len(X_test)):\n",
    "    if (y_test[i] != pre_y[i]) and (y_test[i] == 0):\n",
    "        print('---------')\n",
    "        if i < l0:\n",
    "            l = ran[i]\n",
    "        else:\n",
    "            l = msr[i - l0]\n",
    "        \n",
    "        # r, p1, p2 = l.split(' ')\n",
    "        print(l)\n",
    "        print(X_test[i], y_test[i], prog_y[i])\n",
    "        \n",
    "        "
   ]
  },
  {
   "cell_type": "code",
   "execution_count": null,
   "metadata": {},
   "outputs": [],
   "source": [
    "import main\n",
    "\n",
    "c = main.classify()\n",
    "\n",
    "msr = open('data/msr_positive_pairs.txt').readlines()\n",
    "\n",
    "for pair in msr:\n",
    "    r, n1, n2 = pair.split()"
   ]
  }
 ],
 "metadata": {
  "kernelspec": {
   "display_name": "Python 3",
   "language": "python",
   "name": "python3"
  },
  "language_info": {
   "codemirror_mode": {
    "name": "ipython",
    "version": 3
   },
   "file_extension": ".py",
   "mimetype": "text/x-python",
   "name": "python",
   "nbconvert_exporter": "python",
   "pygments_lexer": "ipython3",
   "version": "3.6.5"
  }
 },
 "nbformat": 4,
 "nbformat_minor": 2
}
