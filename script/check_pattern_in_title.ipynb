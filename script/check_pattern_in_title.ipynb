{
 "cells": [
  {
   "cell_type": "code",
   "execution_count": 26,
   "metadata": {
    "scrolled": false
   },
   "outputs": [
    {
     "name": "stdout",
     "output_type": "stream",
     "text": [
      "510\n",
      "384\n",
      "6978\n",
      "0.07308684436801376\n"
     ]
    }
   ],
   "source": [
    "import sys\n",
    "sys.path.append('/home/luyao/PR_get/INTRUDE')\n",
    "\n",
    "import git\n",
    "\n",
    "repo = 'facebook/react'\n",
    "# repo = 'tensorflow/tensorflow'\n",
    "# repo = 'ansible/ansible'\n",
    "\n",
    "pulls = git.get_repo_info(repo, 'pull')\n",
    "\n",
    "num = 0\n",
    "num2 = 0\n",
    "num_merge = 0\n",
    "\n",
    "for p in pulls:\n",
    "    t = p['title'].lower()\n",
    "    \n",
    "    ok = True\n",
    "    '''\n",
    "    if 'typo' in t:\n",
    "        # print(t)\n",
    "        num += 1\n",
    "        if 'fix' in t:\n",
    "            num2 += 1\n",
    "    '''\n",
    "    \n",
    "    '''\n",
    "    if 'revert' in t:\n",
    "        ok = False\n",
    "    '''\n",
    "    if 'typo' in t:\n",
    "        ok = False\n",
    "    if 'log' in t:\n",
    "        ok = False\n",
    "    if 'version' in t:\n",
    "        ok = False\n",
    "    if 'readme' in t:\n",
    "        ok = False\n",
    "    if 'doc' in t:\n",
    "        ok = False\n",
    "\n",
    "    if not ok:\n",
    "        num += 1\n",
    "        if (p['state'] == 'open') or (p['merged_at'] is not None):\n",
    "            num2 += 1\n",
    "        # print(t)\n",
    "    \n",
    "\n",
    "\n",
    "print(num)\n",
    "print(num2)\n",
    "print(len(pulls))\n",
    "print(num/len(pulls))"
   ]
  },
  {
   "cell_type": "code",
   "execution_count": null,
   "metadata": {},
   "outputs": [],
   "source": []
  }
 ],
 "metadata": {
  "kernelspec": {
   "display_name": "Python 3",
   "language": "python",
   "name": "python3"
  },
  "language_info": {
   "codemirror_mode": {
    "name": "ipython",
    "version": 3
   },
   "file_extension": ".py",
   "mimetype": "text/x-python",
   "name": "python",
   "nbconvert_exporter": "python",
   "pygments_lexer": "ipython3",
   "version": "3.6.5"
  }
 },
 "nbformat": 4,
 "nbformat_minor": 2
}
