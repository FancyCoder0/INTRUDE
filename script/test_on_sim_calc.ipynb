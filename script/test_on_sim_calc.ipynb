{
 "cells": [
  {
   "cell_type": "code",
   "execution_count": null,
   "metadata": {
    "scrolled": true
   },
   "outputs": [],
   "source": [
    "from detect import *\n",
    "\n",
    "repo = 'cocos2d/cocos2d-x'\n",
    "\n",
    "pulls = get_pull_list(repo, False)\n",
    "for pull in pulls:\n",
    "    cite[str(pull[\"number\"])] = get_another_pull(pull)\n",
    "\n",
    "print(cite['17483'])\n",
    "# init_model_with_pulls(None, repo.replace('/','_') + '_marked2')\n",
    "get_topK(repo, '17527')\n",
    "\n"
   ]
  },
  {
   "cell_type": "code",
   "execution_count": null,
   "metadata": {},
   "outputs": [],
   "source": [
    "from main import *\n",
    "# init_model_with_repo('django/django')\n",
    "\n",
    "get_sim('django/django', '4152', '4143')"
   ]
  },
  {
   "cell_type": "code",
   "execution_count": null,
   "metadata": {},
   "outputs": [],
   "source": [
    "from main import *\n",
    "\n",
    "# init_model_with_repo('ceph/ceph')\n",
    "\n",
    "p1 = get_pull('hashicorp/terraform', '6827')\n",
    "t = get_another_pull(p1)\n",
    "print(type(t[0]))\n",
    "print(get_another_pull(p1))\n",
    "\n",
    "print(type(p1[\"number\"]))\n",
    "'''\n",
    "p2 = get_pull('ceph/ceph', '10427')\n",
    "print(get_BoW(p1[\"title\"]))\n",
    "print(get_BoW(p2[\"title\"]))\n",
    "\n",
    "print(get_sim('ceph/ceph', '10438', '10427'))\n",
    "\n",
    "print(check_pattern(p1, p2))\n",
    "'''"
   ]
  },
  {
   "cell_type": "code",
   "execution_count": null,
   "metadata": {},
   "outputs": [],
   "source": [
    "import main\n",
    "main.get_sim('SignalR/SignalR', '3094', '3862')"
   ]
  },
  {
   "cell_type": "code",
   "execution_count": null,
   "metadata": {},
   "outputs": [],
   "source": [
    "import main\n",
    "main.init_model_with_repo('SignalR/SignalR')\n",
    "main.get_sim('SignalR/SignalR', '3094', '3862')"
   ]
  },
  {
   "cell_type": "code",
   "execution_count": null,
   "metadata": {},
   "outputs": [],
   "source": [
    "import main\n",
    "c = main.classify() # all\n",
    "\n",
    "\"\"\"\n",
    "with open('tmp/1.txt') as f:\n",
    "    for l in f.readlines():\n",
    "        if len(l)<=3:\n",
    "            continue\n",
    "        p, n1, n2 = l.split()\n",
    "        \n",
    "        t = main.get_sim(p, n1, n2)\n",
    "        \n",
    "        print(c.predict([t])[0], p, n1, n2, t)\n",
    "\"\"\"\n",
    "\n",
    "with open('')\n",
    "X_test = localfile_tool.get_file('data/improve_false_data_msr_positive_pairs_lsi_X.json')\n",
    "y_test = localfile_tool.get_file('data/improve_false_data_msr_positive_pairs_lsi_y.json')\n",
    "\n",
    "acc = c.score(X_test, y_test)\n",
    "print('Mean Accuracy:', acc)\n",
    "\n",
    "# c.predict()\n"
   ]
  },
  {
   "cell_type": "code",
   "execution_count": null,
   "metadata": {},
   "outputs": [],
   "source": [
    "import main\n",
    "main.get_sim('mozilla-b2g/gaia', '2420', '2459')"
   ]
  },
  {
   "cell_type": "code",
   "execution_count": null,
   "metadata": {},
   "outputs": [],
   "source": [
    "import main\n",
    "p = main.get_pull('mozilla-b2g/gaia', '2420')\n",
    "f = fetch_pr_info(p)\n",
    "print([x[\"name\"] for x in f])\n"
   ]
  },
  {
   "cell_type": "code",
   "execution_count": null,
   "metadata": {},
   "outputs": [],
   "source": [
    "from main import *\n",
    "from git import *\n",
    "from comparer import *\n",
    "\n",
    "repo = 'spring-projects/spring-framework'\n",
    "init_model_with_pulls([], repo.replace('/','_') + '_all')\n",
    "# init_model_with_repo(repo)\n",
    "\n",
    "x = 'Changed min accepted day of month to 1'\n",
    "y = 'Support for the last day in month cron expression'\n",
    "\n",
    "'''\n",
    "x = 'Tokenizer - removing unnecessary boxing'\n",
    "y = 'Tokenizer - removes unnecessary boxing of char'\n",
    "'''\n",
    "\n",
    "%timeit text_sim(x,y)\n",
    "# text_sim(x,y)\n",
    "'''\n",
    "print(model.get_tfidf(get_BoW(x)))\n",
    "print(model.get_tfidf(get_BoW(y)))\n",
    "c = set(get_BoW(x)) & set(get_BoW(y))\n",
    "print(model.get_idf_sum(c))\n",
    "'''"
   ]
  },
  {
   "cell_type": "code",
   "execution_count": null,
   "metadata": {},
   "outputs": [],
   "source": []
  },
  {
   "cell_type": "code",
   "execution_count": null,
   "metadata": {},
   "outputs": [],
   "source": []
  }
 ],
 "metadata": {
  "kernelspec": {
   "display_name": "Python 3",
   "language": "python",
   "name": "python3"
  },
  "language_info": {
   "codemirror_mode": {
    "name": "ipython",
    "version": 3
   },
   "file_extension": ".py",
   "mimetype": "text/x-python",
   "name": "python",
   "nbconvert_exporter": "python",
   "pygments_lexer": "ipython3",
   "version": "3.6.5"
  }
 },
 "nbformat": 4,
 "nbformat_minor": 2
}
