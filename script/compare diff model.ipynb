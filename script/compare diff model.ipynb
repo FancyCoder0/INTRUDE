{
 "cells": [
  {
   "cell_type": "code",
   "execution_count": 1,
   "metadata": {},
   "outputs": [
    {
     "name": "stdout",
     "output_type": "stream",
     "text": [
      "D_overlap_files_set_len\n",
      "run get_feature_vector!\n",
      "input= data/big_false_data.txt\n",
      "out= data/big_false_data_feature_vector\n",
      "run get_feature_vector!\n",
      "input= data/msr_positive_pairs.txt\n",
      "out= data/msr_positive_pairs_feature_vector\n",
      "run get_feature_vector!\n",
      "input= data/rly_true_pairs.txt\n",
      "out= data/rly_true_pairs_feature_vector\n",
      "extract= [1, 1, 1, 1, 1, 1, 0]\n",
      "training_set 17928 testing_set 4483 feature_length= 6\n",
      "------ model:  SVM ------\n",
      "Mean Accuracy: 0.9696631719830471\n",
      "Average precision score: 0.9067\n",
      "D_overlap_files_set_len\n",
      "run get_feature_vector!\n",
      "input= data/big_false_data.txt\n",
      "out= data/big_false_data_feature_vector\n",
      "run get_feature_vector!\n",
      "input= data/msr_positive_pairs.txt\n",
      "out= data/msr_positive_pairs_feature_vector\n",
      "run get_feature_vector!\n",
      "input= data/rly_true_pairs.txt\n",
      "out= data/rly_true_pairs_feature_vector\n",
      "extract= [1, 1, 1, 1, 1, 1, 0]\n",
      "training_set 17928 testing_set 4483 feature_length= 6\n",
      "------ model:  LogisticRegression ------\n",
      "Mean Accuracy: 0.9660941333928174\n",
      "Average precision score: 0.9128\n",
      "D_overlap_files_set_len\n",
      "run get_feature_vector!\n",
      "input= data/big_false_data.txt\n",
      "out= data/big_false_data_feature_vector\n",
      "run get_feature_vector!\n",
      "input= data/msr_positive_pairs.txt\n",
      "out= data/msr_positive_pairs_feature_vector\n",
      "run get_feature_vector!\n",
      "input= data/rly_true_pairs.txt\n",
      "out= data/rly_true_pairs_feature_vector\n",
      "extract= [1, 1, 1, 1, 1, 1, 0]\n",
      "training_set 17928 testing_set 4483 feature_length= 6\n",
      "------ model:  SGDClassifier ------\n",
      "Mean Accuracy: 0.9647557439214811\n",
      "Average precision score: 0.8769\n"
     ]
    },
    {
     "data": {
      "text/plain": [
       "SGDClassifier(alpha=0.0001, average=False, class_weight=None, epsilon=0.1,\n",
       "       eta0=0.0, fit_intercept=True, l1_ratio=0.15,\n",
       "       learning_rate='optimal', loss='hinge', max_iter=None, n_iter=None,\n",
       "       n_jobs=1, penalty='l2', power_t=0.5, random_state=None,\n",
       "       shuffle=True, tol=0.01, verbose=0, warm_start=False)"
      ]
     },
     "execution_count": 1,
     "metadata": {},
     "output_type": "execute_result"
    }
   ],
   "source": [
    "%matplotlib inline\n",
    "import main\n",
    "p = [1,1,1,1,1,1,0]\n",
    "main.classify('SVM', p)\n",
    "main.classify('LogisticRegression', p)\n",
    "main.classify('SGDClassifier', p)\n"
   ]
  },
  {
   "cell_type": "code",
   "execution_count": null,
   "metadata": {},
   "outputs": [],
   "source": []
  },
  {
   "cell_type": "code",
   "execution_count": null,
   "metadata": {},
   "outputs": [],
   "source": []
  }
 ],
 "metadata": {
  "kernelspec": {
   "display_name": "Python 3",
   "language": "python",
   "name": "python3"
  },
  "language_info": {
   "codemirror_mode": {
    "name": "ipython",
    "version": 3
   },
   "file_extension": ".py",
   "mimetype": "text/x-python",
   "name": "python",
   "nbconvert_exporter": "python",
   "pygments_lexer": "ipython3",
   "version": "3.6.5"
  }
 },
 "nbformat": 4,
 "nbformat_minor": 2
}
