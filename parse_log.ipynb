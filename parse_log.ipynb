{
 "cells": [
  {
   "cell_type": "code",
   "execution_count": 13,
   "metadata": {},
   "outputs": [
    {
     "name": "stdout",
     "output_type": "stream",
     "text": [
      "dotnet/corefx 30225 26824\n",
      "dotnet/corefx 30225 26823\n",
      "dotnet/corefx 30225 20986\n",
      "dotnet/corefx 30225 20986  0.5891550180083821\n"
     ]
    }
   ],
   "source": [
    "from git import *\n",
    "\n",
    "file = 'tmp/parse_test.txt'\n",
    "\n",
    "def check_pro_pick(p1, p2):\n",
    "    if set([x[1] for x in pull_commit_sha(p1)]) & set([x[1] for x in pull_commit_sha(p2)]):\n",
    "        return True\n",
    "    return False\n",
    "\n",
    "with open(file) as f:\n",
    "    for t in f.readlines():\n",
    "        rs, vs = t.strip()[:-1].split('[')\n",
    "        \n",
    "        r, n1 = rs.strip().split()\n",
    "        op = vs.split('),')\n",
    "        \n",
    "        for v in op:\n",
    "            n2, proba = v.strip()[1:].split(',')\n",
    "            print(r, n1, n2)\n",
    "            if (not check_pro_pick(get_pull(r, n1), get_pull(r, n2))):\n",
    "                # (float(proba) >= 0.6) and \n",
    "                print(r, n1, n2, proba)\n",
    "                break\n",
    "            \n"
   ]
  },
  {
   "cell_type": "code",
   "execution_count": null,
   "metadata": {},
   "outputs": [],
   "source": [
    "from util import localfile\n",
    "from git import *\n",
    "\n",
    "r = 'ceph/ceph'\n",
    "nums = os.listdir('evaluation/%s' % repo)\n",
    "\n",
    "def check_pro_pick(p1, p2):\n",
    "    if set([x[1] for x in pull_commit_sha(p1)]) & set([x[1] for x in pull_commit_sha(p2)]):\n",
    "        return True\n",
    "    return False\n",
    "\n",
    "print('num', len(nums))\n",
    "\n",
    "for num in nums:\n",
    "    num = num.replace('.json', '')\n",
    "    \n",
    "    if not num.isdigit():\n",
    "        continue\n",
    "        \n",
    "    op = localfile.get_file('evaluation/%s/%s.json' % (repo, num))\n",
    "    ok = False\n",
    "    for (n2, proba) in op:\n",
    "        if not (proba >= 0.6):\n",
    "            ok = True\n",
    "            break\n",
    "\n",
    "        if (not check_pro_pick(get_pull(r, n1), get_pull(r, n2))):\n",
    "            print(r, n1, n2, proba)\n",
    "            ok = True\n",
    "            break\n",
    "\n",
    "    if not ok:\n",
    "        print('error!')\n",
    "\n",
    "    "
   ]
  }
 ],
 "metadata": {
  "kernelspec": {
   "display_name": "Python 3",
   "language": "python",
   "name": "python3"
  },
  "language_info": {
   "codemirror_mode": {
    "name": "ipython",
    "version": 3
   },
   "file_extension": ".py",
   "mimetype": "text/x-python",
   "name": "python",
   "nbconvert_exporter": "python",
   "pygments_lexer": "ipython3",
   "version": "3.6.5"
  }
 },
 "nbformat": 4,
 "nbformat_minor": 2
}
