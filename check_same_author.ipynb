{
 "cells": [
  {
   "cell_type": "code",
   "execution_count": null,
   "metadata": {},
   "outputs": [],
   "source": [
    "file = 'rlog/cases_only_author-Copy1.txt'\n",
    "\n",
    "pairs = open(file).readlines()\n",
    "\n",
    "mark = {}\n",
    "for ps in pairs:\n",
    "    r, n1, n2, v = ps.split()\n",
    "    \n",
    "    if float(v) > float(mark.get((r, n1), [0, 0])[1]):\n",
    "        mark[(r, n1)] = [n2, v]\n",
    "\n",
    "from git import *\n",
    "\n",
    "for (r, n1) in mark:\n",
    "    n2, v = mark[(r, n1)][0], mark[(r, n1)][1]\n",
    "    \n",
    "    p1 = get_pull(r, n1)\n",
    "    p2 = get_pull(r, n2)\n",
    "    \n",
    "    b1 = p1['merged_at'] is not None\n",
    "    b2 = p2['merged_at'] is not None\n",
    "    \n",
    "    print(r, n1, n2, v, b1, b2, b1 != b2, sep='\\t')\n",
    "    \n",
    "    "
   ]
  },
  {
   "cell_type": "code",
   "execution_count": 10,
   "metadata": {},
   "outputs": [
    {
     "name": "stdout",
     "output_type": "stream",
     "text": [
      "{'ceph/ceph', 'joomla/joomla-cms', 'elastic/elasticsearch', 'angular/angular.js', 'ansible/ansible', 'docker/docker', 'hashicorp/terraform', 'rails/rails', 'cocos2d/cocos2d-x', 'dotnet/corefx', 'facebook/react', 'django/django', 'emberjs/ember.js'}\n",
      "13\n",
      "('ansible/ansible', '8657', '8388', '0.6428651050057262', 'Unknown(mention)')\n",
      "('hashicorp/terraform', '4243', '4138', '0.6263040530057982', 'Unknown')\n"
     ]
    }
   ],
   "source": [
    "\n",
    "from val import *\n",
    "from git import *\n",
    "\n",
    "file = 'rlog/all_with_mark_new.txt'\n",
    "\n",
    "ext = set()\n",
    "ext2 = {}\n",
    "ext3 = {}\n",
    "with open(file) as f:\n",
    "    for t in f.readlines():\n",
    "        r, n1, n2, v, status = t.split()\n",
    "        \n",
    "        if check_pro_pick(get_pull(r, n1), get_pull(r, n2)):\n",
    "            ext.add(r)\n",
    "            ext2[r] = (r, n1, n2, v, status)\n",
    "        \n",
    "        if get_pull(r, n1)[\"user\"][\"id\"] == get_pull(r, n2)[\"user\"][\"id\"]:\n",
    "            print('error', t.strip())\n",
    "\n",
    "print(ext)\n",
    "print(len(ext))\n",
    "print(ext2['ansible/ansible'])\n",
    "print(ext2['hashicorp/terraform'])"
   ]
  },
  {
   "cell_type": "code",
   "execution_count": null,
   "metadata": {},
   "outputs": [
    {
     "name": "stdout",
     "output_type": "stream",
     "text": [
      "file= elastic_elasticsearch_stimulate_detect.log\n",
      "tot: 716\n",
      "222\n",
      "finish write /DATA/luyao/pr_data/elastic/elasticsearch/18550/commits.json to file....\n"
     ]
    }
   ],
   "source": [
    "from git import *\n",
    "\n",
    "files = [#'ansible_ansible_stimulate_detect.log',\n",
    "         'elastic_elasticsearch_stimulate_detect.log'\n",
    "        ]\n",
    "\n",
    "to_run = []\n",
    "\n",
    "runned = {}\n",
    "for file in files:\n",
    "    if 'log' not in file:\n",
    "        continue\n",
    "    \n",
    "    print('file=', file)\n",
    "    with open('rlog/' + file) as f:\n",
    "        tot = 0\n",
    "        ps = f.readlines()\n",
    "        \n",
    "        l = len(ps)\n",
    "        print('tot:', len(ps))\n",
    "        \n",
    "        for i in range(l):\n",
    "            t = ps[l - i - 1]\n",
    "            tot += 1\n",
    "            rs, vs = t.strip().split(':')\n",
    "            r, n_big = rs.strip().split()\n",
    "            \n",
    "            op = vs.strip()[2:-2].split('), (')\n",
    "            \n",
    "            p1 = get_pull(r, n_big)\n",
    "            for can in op[:5]:\n",
    "                n_small, proba = can.split(',')\n",
    "                \n",
    "                if float(proba) < 0.58:\n",
    "                    continue\n",
    "    \n",
    "                p2 = get_pull(r, n_small)\n",
    "                if set([x[1] for x in pull_commit_sha(p1)]) & set([x[1] for x in pull_commit_sha(p2)]):\n",
    "                    print(tot)\n",
    "                    break\n",
    "                \n",
    "        \n",
    "        print('tot:', tot)"
   ]
  },
  {
   "cell_type": "code",
   "execution_count": null,
   "metadata": {},
   "outputs": [],
   "source": []
  }
 ],
 "metadata": {
  "kernelspec": {
   "display_name": "Python 3",
   "language": "python",
   "name": "python3"
  },
  "language_info": {
   "codemirror_mode": {
    "name": "ipython",
    "version": 3
   },
   "file_extension": ".py",
   "mimetype": "text/x-python",
   "name": "python",
   "nbconvert_exporter": "python",
   "pygments_lexer": "ipython3",
   "version": "3.6.5"
  }
 },
 "nbformat": 4,
 "nbformat_minor": 2
}
