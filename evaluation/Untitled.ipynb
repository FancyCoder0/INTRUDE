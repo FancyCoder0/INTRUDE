{
 "cells": [
  {
   "cell_type": "code",
   "execution_count": 2,
   "metadata": {},
   "outputs": [
    {
     "name": "stdout",
     "output_type": "stream",
     "text": [
      "Finish on  elastic_elasticsearch_stimulate_top1_sample200.txt\n"
     ]
    }
   ],
   "source": [
    "\n",
    "msr = []\n",
    "with open('../data/msr_positive_pairs.txt') as f:\n",
    "\tfor t in f.readlines():\n",
    "\t\tr, n1, n2 = t.strip().split()\n",
    "\t\tif n1 < n2:\n",
    "\t\t\tn1, n2 = n2, n1\n",
    "\t\t# print(r, n1, n2)\n",
    "\t\tmsr.append((r, n1, n2))\n",
    "\n",
    "file_name = 'elastic_elasticsearch_stimulate_top1_sample200.txt'\n",
    "out = open(file_name.replace('.txt', '_sheet.txt'), 'w')\n",
    "\n",
    "with open(file_name) as f:\n",
    "\twhile True:\n",
    "\t\tt = f.readline().strip()\n",
    "\t\tif not t:\n",
    "\t\t\tbreak\n",
    "\t\t\n",
    "\t\tt2 = f.readline().strip()\n",
    "\t\tl1 = [f.readline().strip()]\n",
    "\t\tl2 = [f.readline().strip()]\n",
    "\n",
    "\t\ttt = t.strip().split()\n",
    "\t\tr, n1, n2 = tt[0], tt[1], tt[2]\n",
    "\n",
    "\t\tif (r, n1, n2) in msr:\n",
    "\t\t\tmark = 'MSR'\n",
    "\t\telse:\n",
    "\t\t\tmark = 'N/A'\n",
    "\n",
    "\t\tprint('\\t'.join(t.split() + [mark] + t2.split() + l1 + l2), file=out)\n",
    "\n",
    "print('Finish on ', file_name)\n",
    "out.close()\n"
   ]
  },
  {
   "cell_type": "code",
   "execution_count": null,
   "metadata": {},
   "outputs": [],
   "source": []
  }
 ],
 "metadata": {
  "kernelspec": {
   "display_name": "Python 3",
   "language": "python",
   "name": "python3"
  },
  "language_info": {
   "codemirror_mode": {
    "name": "ipython",
    "version": 3
   },
   "file_extension": ".py",
   "mimetype": "text/x-python",
   "name": "python",
   "nbconvert_exporter": "python",
   "pygments_lexer": "ipython3",
   "version": "3.6.5"
  }
 },
 "nbformat": 4,
 "nbformat_minor": 2
}
