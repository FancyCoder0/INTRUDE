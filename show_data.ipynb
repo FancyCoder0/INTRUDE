{
 "cells": [
  {
   "cell_type": "code",
   "execution_count": 1,
   "metadata": {},
   "outputs": [
    {
     "name": "stdout",
     "output_type": "stream",
     "text": [
      "laravel/framework 4138 2678 line= +24,-13 \t +31,-18\n",
      "Fixed sockets not working in Laravel\n",
      "Update MySqlConnector.php to fix a bug when the unix_socket param is used\n",
      "Counter({'dsn': 3, 'exec': 2, 'config': 2, 'need': 1, 'explicitli': 1, \"'use\": 1, 'mysql': 1, 'command': 1, 'socket': 1, 'use': 1, 'isset': 1, \"'unix\": 1, 'connect': 1, \"'databas\": 1, 'shouldrec': 1, 'receiv': 1, \"'exec\": 1, 'zeroormoretim': 1, 'zero': 1, 'or': 1, 'more': 1, 'time': 1})\n",
      "Counter({'use': 5, 'socket': 4, 'config': 3, 'unix': 3, 'exec': 2, 'mysql': 2, 'explicitli': 1, \"'use\": 1, 'command': 1, 'dsn': 1, 'isset': 1, \"'unix\": 1, \"'databas\": 1, 'but': 1, 'more': 1, 'often': 1, 'singl': 1, 'hostnam': 1, 'suppli': 1, 'optionn': 1, 'port': 1, 'number': 1, 'warn': 1, 'when': 1, \"'localhost\": 1, 'driver': 1, 'default': 1, 'valu': 1, \"'127\": 1, 'instead': 1, 'note': 1, 'accord': 1, 'php': 1, 'document': 1, 'host': 1, 'not': 1, 'togeth': 1, 'final': 1, \"'mysql\": 1, 'prefix': 1, 'databas': 1, 'name': 1, 'are': 1, 'ad': 1, 'shouldrec': 1, 'receiv': 1, \"'exec\": 1})\n"
     ]
    },
    {
     "ename": "AttributeError",
     "evalue": "'NoneType' object has no attribute 'query_sim_tfidf'",
     "output_type": "error",
     "traceback": [
      "\u001b[0;31m---------------------------------------------------------------------------\u001b[0m",
      "\u001b[0;31mAttributeError\u001b[0m                            Traceback (most recent call last)",
      "\u001b[0;32m<ipython-input-1-025ad6f163cf>\u001b[0m in \u001b[0;36m<module>\u001b[0;34m()\u001b[0m\n\u001b[1;32m     47\u001b[0m         \u001b[0mprint\u001b[0m\u001b[0;34m(\u001b[0m\u001b[0mp2\u001b[0m\u001b[0;34m[\u001b[0m\u001b[0;34m'title'\u001b[0m\u001b[0;34m]\u001b[0m\u001b[0;34m)\u001b[0m\u001b[0;34m\u001b[0m\u001b[0m\n\u001b[1;32m     48\u001b[0m \u001b[0;34m\u001b[0m\u001b[0m\n\u001b[0;32m---> 49\u001b[0;31m         \u001b[0mprint\u001b[0m\u001b[0;34m(\u001b[0m\u001b[0mget_pr_sim_vector\u001b[0m\u001b[0;34m(\u001b[0m\u001b[0mp1\u001b[0m\u001b[0;34m,\u001b[0m \u001b[0mp2\u001b[0m\u001b[0;34m)\u001b[0m\u001b[0;34m)\u001b[0m\u001b[0;34m\u001b[0m\u001b[0m\n\u001b[0m\u001b[1;32m     50\u001b[0m         \u001b[0mprint\u001b[0m\u001b[0;34m(\u001b[0m\u001b[0;34m'------'\u001b[0m\u001b[0;34m)\u001b[0m\u001b[0;34m\u001b[0m\u001b[0m\n\u001b[1;32m     51\u001b[0m \u001b[0;34m\u001b[0m\u001b[0m\n",
      "\u001b[0;32m~/PR_get/INTRUDE/comp.py\u001b[0m in \u001b[0;36mget_pr_sim_vector\u001b[0;34m(A, B)\u001b[0m\n\u001b[1;32m    359\u001b[0m     \u001b[0mB\u001b[0m\u001b[0;34m[\u001b[0m\u001b[0;34m\"body\"\u001b[0m\u001b[0;34m]\u001b[0m \u001b[0;34m=\u001b[0m \u001b[0mstr\u001b[0m\u001b[0;34m(\u001b[0m\u001b[0mB\u001b[0m\u001b[0;34m[\u001b[0m\u001b[0;34m\"body\"\u001b[0m\u001b[0;34m]\u001b[0m \u001b[0;32mor\u001b[0m \u001b[0;34m''\u001b[0m\u001b[0;34m)\u001b[0m\u001b[0;34m\u001b[0m\u001b[0m\n\u001b[1;32m    360\u001b[0m \u001b[0;34m\u001b[0m\u001b[0m\n\u001b[0;32m--> 361\u001b[0;31m     \u001b[0mret\u001b[0m \u001b[0;34m=\u001b[0m \u001b[0mcalc_sim\u001b[0m\u001b[0;34m(\u001b[0m\u001b[0mA\u001b[0m\u001b[0;34m,\u001b[0m \u001b[0mB\u001b[0m\u001b[0;34m)\u001b[0m\u001b[0;34m\u001b[0m\u001b[0m\n\u001b[0m\u001b[1;32m    362\u001b[0m     \u001b[0;32mreturn\u001b[0m \u001b[0msim_to_vet\u001b[0m\u001b[0;34m(\u001b[0m\u001b[0mret\u001b[0m\u001b[0;34m)\u001b[0m\u001b[0;34m\u001b[0m\u001b[0m\n\u001b[1;32m    363\u001b[0m \u001b[0;34m\u001b[0m\u001b[0m\n",
      "\u001b[0;32m~/PR_get/INTRUDE/comp.py\u001b[0m in \u001b[0;36mcalc_sim\u001b[0;34m(A, B)\u001b[0m\n\u001b[1;32m    305\u001b[0m \u001b[0;34m\u001b[0m\u001b[0m\n\u001b[1;32m    306\u001b[0m     \u001b[0mA_overlap\u001b[0m\u001b[0;34m,\u001b[0m \u001b[0mB_overlap\u001b[0m \u001b[0;34m=\u001b[0m \u001b[0mget_pull_on_overlap\u001b[0m\u001b[0;34m(\u001b[0m\u001b[0mA\u001b[0m\u001b[0;34m,\u001b[0m \u001b[0moverlap_files_set\u001b[0m\u001b[0;34m)\u001b[0m\u001b[0;34m,\u001b[0m \u001b[0mget_pull_on_overlap\u001b[0m\u001b[0;34m(\u001b[0m\u001b[0mB\u001b[0m\u001b[0;34m,\u001b[0m \u001b[0moverlap_files_set\u001b[0m\u001b[0;34m)\u001b[0m\u001b[0;34m\u001b[0m\u001b[0m\n\u001b[0;32m--> 307\u001b[0;31m     \u001b[0mcode_sim\u001b[0m \u001b[0;34m=\u001b[0m \u001b[0mget_code_sim\u001b[0m\u001b[0;34m(\u001b[0m\u001b[0mA\u001b[0m\u001b[0;34m,\u001b[0m \u001b[0mB\u001b[0m\u001b[0;34m)\u001b[0m \u001b[0;34m+\u001b[0m \u001b[0mget_code_sim\u001b[0m\u001b[0;34m(\u001b[0m\u001b[0mA_overlap\u001b[0m\u001b[0;34m,\u001b[0m \u001b[0mB_overlap\u001b[0m\u001b[0;34m)\u001b[0m\u001b[0;34m\u001b[0m\u001b[0m\n\u001b[0m\u001b[1;32m    308\u001b[0m \u001b[0;34m\u001b[0m\u001b[0m\n\u001b[1;32m    309\u001b[0m     \u001b[0mlocation_sim\u001b[0m \u001b[0;34m=\u001b[0m \u001b[0;34m[\u001b[0m\u001b[0mlocation_similarity\u001b[0m\u001b[0;34m(\u001b[0m\u001b[0mget_location\u001b[0m\u001b[0;34m(\u001b[0m\u001b[0mA\u001b[0m\u001b[0;34m)\u001b[0m\u001b[0;34m,\u001b[0m \u001b[0mget_location\u001b[0m\u001b[0;34m(\u001b[0m\u001b[0mB\u001b[0m\u001b[0;34m)\u001b[0m\u001b[0;34m)\u001b[0m\u001b[0;34m]\u001b[0m \u001b[0;34m+\u001b[0m\u001b[0;31m \u001b[0m\u001b[0;31m\\\u001b[0m\u001b[0;34m\u001b[0m\u001b[0m\n",
      "\u001b[0;32m~/PR_get/INTRUDE/comp.py\u001b[0m in \u001b[0;36mget_code_sim\u001b[0;34m(A, B)\u001b[0m\n\u001b[1;32m    278\u001b[0m         \u001b[0;32mreturn\u001b[0m \u001b[0;34m[\u001b[0m\u001b[0mcode_sim\u001b[0m\u001b[0;34m]\u001b[0m\u001b[0;34m\u001b[0m\u001b[0m\n\u001b[1;32m    279\u001b[0m     \u001b[0;32mif\u001b[0m \u001b[0mcode_sim_type\u001b[0m \u001b[0;34m==\u001b[0m \u001b[0;34m'tfidf'\u001b[0m\u001b[0;34m:\u001b[0m\u001b[0;34m\u001b[0m\u001b[0m\n\u001b[0;32m--> 280\u001b[0;31m         \u001b[0mcode_sim\u001b[0m \u001b[0;34m=\u001b[0m \u001b[0mvsm_tfidf_similarity\u001b[0m\u001b[0;34m(\u001b[0m\u001b[0mA_delta_code_counter\u001b[0m\u001b[0;34m,\u001b[0m \u001b[0mB_delta_code_counter\u001b[0m\u001b[0;34m)\u001b[0m\u001b[0;34m\u001b[0m\u001b[0m\n\u001b[0m\u001b[1;32m    281\u001b[0m         \u001b[0;32mreturn\u001b[0m \u001b[0;34m[\u001b[0m\u001b[0mcode_sim\u001b[0m\u001b[0;34m]\u001b[0m\u001b[0;34m\u001b[0m\u001b[0m\n\u001b[1;32m    282\u001b[0m     \u001b[0;32mif\u001b[0m \u001b[0mcode_sim_type\u001b[0m \u001b[0;34m==\u001b[0m \u001b[0;34m'bow_two'\u001b[0m\u001b[0;34m:\u001b[0m\u001b[0;34m\u001b[0m\u001b[0m\n",
      "\u001b[0;32m~/PR_get/INTRUDE/comp.py\u001b[0m in \u001b[0;36mvsm_tfidf_similarity\u001b[0;34m(A, B)\u001b[0m\n\u001b[1;32m    225\u001b[0m \u001b[0;34m\u001b[0m\u001b[0m\n\u001b[1;32m    226\u001b[0m \u001b[0;32mdef\u001b[0m \u001b[0mvsm_tfidf_similarity\u001b[0m\u001b[0;34m(\u001b[0m\u001b[0mA\u001b[0m\u001b[0;34m,\u001b[0m \u001b[0mB\u001b[0m\u001b[0;34m)\u001b[0m\u001b[0;34m:\u001b[0m\u001b[0;34m\u001b[0m\u001b[0m\n\u001b[0;32m--> 227\u001b[0;31m     \u001b[0;32mreturn\u001b[0m \u001b[0mcode_model\u001b[0m\u001b[0;34m.\u001b[0m\u001b[0mquery_sim_tfidf\u001b[0m\u001b[0;34m(\u001b[0m\u001b[0mcounter2list\u001b[0m\u001b[0;34m(\u001b[0m\u001b[0mA\u001b[0m\u001b[0;34m)\u001b[0m\u001b[0;34m,\u001b[0m \u001b[0mcounter2list\u001b[0m\u001b[0;34m(\u001b[0m\u001b[0mB\u001b[0m\u001b[0;34m)\u001b[0m\u001b[0;34m)\u001b[0m\u001b[0;34m\u001b[0m\u001b[0m\n\u001b[0m\u001b[1;32m    228\u001b[0m \u001b[0;34m\u001b[0m\u001b[0m\n\u001b[1;32m    229\u001b[0m \u001b[0;31m# ---------------------------------------------------------------------------\u001b[0m\u001b[0;34m\u001b[0m\u001b[0;34m\u001b[0m\u001b[0m\n",
      "\u001b[0;31mAttributeError\u001b[0m: 'NoneType' object has no attribute 'query_sim_tfidf'"
     ]
    }
   ],
   "source": [
    "from comp import *\n",
    "from git import *\n",
    "\n",
    "files = [\n",
    "#'/home/luyao/PR_get/INTRUDE/data/clf/manual_label_false.txt',\n",
    "'/home/luyao/PR_get/INTRUDE/data/clf/manual_label_true.txt',\n",
    "#'/home/luyao/PR_get/INTRUDE/data/clf/openpr_label_false.txt',\n",
    "'/home/luyao/PR_get/INTRUDE/data/clf/openpr_label_true.txt'\n",
    "]\n",
    "\n",
    "def check_meaningless(title):\n",
    "    title = title.lower()\n",
    "    if 'revert' in title:\n",
    "        return True\n",
    "    if 'typo' in title:\n",
    "        return True\n",
    "    if (('updat' in title) or ('upgrade' in title)) and ('to' in title.split(' ')):\n",
    "        return True\n",
    "    if (('updat' in title) or ('upgrade' in title)) and (('version' in title) or ('doc' in title)):\n",
    "        return True\n",
    "    if 'readme' in title:\n",
    "        return True\n",
    "    \n",
    "    return False\n",
    "\n",
    "\n",
    "for file in files:\n",
    "    for t in open(file).readlines():\n",
    "        r, n1, n2 = t.split()\n",
    "        p1 = get_pull(r, n1)\n",
    "        p2 = get_pull(r, n2)\n",
    "        \n",
    "        def add(p1):\n",
    "            file_list = fetch_pr_info(p1)\n",
    "            return sum([x[\"LOC\"]['add'] for x in file_list])\n",
    "        def dele(p1):\n",
    "            file_list = fetch_pr_info(p1)\n",
    "            return sum([x[\"LOC\"]['del'] for x in file_list])\n",
    "        \n",
    "        if check_meaningless(p1['title']) or check_meaningless(p2['title']):\n",
    "            pass\n",
    "        else:\n",
    "            continue\n",
    "            \n",
    "        print(t.strip(), 'line=', '+%d,-%d' % (add(p1), dele(p1)) , '\\t', '+%d,-%d' % (add(p2), dele(p2)))\n",
    "        print(p1['title'])\n",
    "        print(p2['title'])\n",
    "        \n",
    "        init_model_with_repo(r)\n",
    "        \n",
    "        print(get_pr_sim_vector(p1, p2))\n",
    "        print('------')\n",
    "    \n",
    "        '''\n",
    "        file_list = fetch_pr_info(p1)\n",
    "        if len(file_list) <= 10:\n",
    "            #print(p1['title'], ':', [x['name'] for x in file_list])\n",
    "            t = sum([x[\"LOC\"]['add'] for x in file_list])\n",
    "            if t <= 10:\n",
    "                print(r, n1, n2, p1['title'], ':', t)\n",
    "        ''' \n",
    "            "
   ]
  },
  {
   "cell_type": "code",
   "execution_count": null,
   "metadata": {},
   "outputs": [],
   "source": []
  }
 ],
 "metadata": {
  "kernelspec": {
   "display_name": "Python 3",
   "language": "python",
   "name": "python3"
  },
  "language_info": {
   "codemirror_mode": {
    "name": "ipython",
    "version": 3
   },
   "file_extension": ".py",
   "mimetype": "text/x-python",
   "name": "python",
   "nbconvert_exporter": "python",
   "pygments_lexer": "ipython3",
   "version": "3.6.5"
  }
 },
 "nbformat": 4,
 "nbformat_minor": 2
}
