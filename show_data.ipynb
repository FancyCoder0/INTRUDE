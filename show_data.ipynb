{
 "cells": [
  {
   "cell_type": "code",
   "execution_count": 1,
   "metadata": {},
   "outputs": [
    {
     "ename": "NameError",
     "evalue": "name 'get_pull' is not defined",
     "output_type": "error",
     "traceback": [
      "\u001b[0;31m---------------------------------------------------------------------------\u001b[0m",
      "\u001b[0;31mNameError\u001b[0m                                 Traceback (most recent call last)",
      "\u001b[0;32m<ipython-input-1-fe22021acbbe>\u001b[0m in \u001b[0;36m<module>\u001b[0;34m()\u001b[0m\n\u001b[1;32m     10\u001b[0m     \u001b[0;32mfor\u001b[0m \u001b[0mt\u001b[0m \u001b[0;32min\u001b[0m \u001b[0mopen\u001b[0m\u001b[0;34m(\u001b[0m\u001b[0mfile\u001b[0m\u001b[0;34m)\u001b[0m\u001b[0;34m.\u001b[0m\u001b[0mreadlines\u001b[0m\u001b[0;34m(\u001b[0m\u001b[0;34m)\u001b[0m\u001b[0;34m:\u001b[0m\u001b[0;34m\u001b[0m\u001b[0m\n\u001b[1;32m     11\u001b[0m         \u001b[0mr\u001b[0m\u001b[0;34m,\u001b[0m \u001b[0mn1\u001b[0m\u001b[0;34m,\u001b[0m \u001b[0mn2\u001b[0m \u001b[0;34m=\u001b[0m \u001b[0mt\u001b[0m\u001b[0;34m.\u001b[0m\u001b[0msplit\u001b[0m\u001b[0;34m(\u001b[0m\u001b[0;34m)\u001b[0m\u001b[0;34m\u001b[0m\u001b[0m\n\u001b[0;32m---> 12\u001b[0;31m         \u001b[0mp1\u001b[0m \u001b[0;34m=\u001b[0m \u001b[0mget_pull\u001b[0m\u001b[0;34m(\u001b[0m\u001b[0mr\u001b[0m\u001b[0;34m,\u001b[0m \u001b[0mn1\u001b[0m\u001b[0;34m)\u001b[0m\u001b[0;34m\u001b[0m\u001b[0m\n\u001b[0m\u001b[1;32m     13\u001b[0m         \u001b[0mp2\u001b[0m \u001b[0;34m=\u001b[0m \u001b[0mget_pull\u001b[0m\u001b[0;34m(\u001b[0m\u001b[0mr\u001b[0m\u001b[0;34m,\u001b[0m \u001b[0mn2\u001b[0m\u001b[0;34m)\u001b[0m\u001b[0;34m\u001b[0m\u001b[0m\n\u001b[1;32m     14\u001b[0m \u001b[0;34m\u001b[0m\u001b[0m\n",
      "\u001b[0;31mNameError\u001b[0m: name 'get_pull' is not defined"
     ]
    }
   ],
   "source": [
    "from git import *\n",
    "\n",
    "files = [\n",
    "#'/home/luyao/PR_get/INTRUDE/data/clf/manual_label_false.txt',\n",
    "'/home/luyao/PR_get/INTRUDE/data/clf/manual_label_true.txt',\n",
    "#'/home/luyao/PR_get/INTRUDE/data/clf/openpr_label_false.txt',\n",
    "'/home/luyao/PR_get/INTRUDE/data/clf/openpr_label_true.txt'\n",
    "]\n",
    "\n",
    "for file in files:\n",
    "    for t in open(file).readlines():\n",
    "        r, n1, n2 = t.split()\n",
    "        p1 = get_pull(r, n1)\n",
    "        p2 = get_pull(r, n2)\n",
    "        \n",
    "        def add(p1):\n",
    "            file_list = fetch_pr_info(p1)\n",
    "            return sum([x[\"LOC\"]['add'] for x in file_list])\n",
    "        def dele(p1):\n",
    "            file_list = fetch_pr_info(p1)\n",
    "            return sum([x[\"LOC\"]['del'] for x in file_list])\n",
    "        \n",
    "        \n",
    "        print(t.strip(), 'line=', '+%d,-%d' % (add(p1), dele(p1)) , '\\t', '+%d,-%d' % (add(p2), dele(p2)))\n",
    "        print(p1['title'])\n",
    "        print(p2['title'])\n",
    "        \n",
    "        print('------')\n",
    "    \n",
    "        '''\n",
    "        file_list = fetch_pr_info(p1)\n",
    "        if len(file_list) <= 10:\n",
    "            #print(p1['title'], ':', [x['name'] for x in file_list])\n",
    "            t = sum([x[\"LOC\"]['add'] for x in file_list])\n",
    "            if t <= 10:\n",
    "                print(r, n1, n2, p1['title'], ':', t)\n",
    "        ''' \n",
    "            "
   ]
  },
  {
   "cell_type": "code",
   "execution_count": null,
   "metadata": {},
   "outputs": [],
   "source": []
  }
 ],
 "metadata": {
  "kernelspec": {
   "display_name": "Python 3",
   "language": "python",
   "name": "python3"
  },
  "language_info": {
   "codemirror_mode": {
    "name": "ipython",
    "version": 3
   },
   "file_extension": ".py",
   "mimetype": "text/x-python",
   "name": "python",
   "nbconvert_exporter": "python",
   "pygments_lexer": "ipython3",
   "version": "3.6.5"
  }
 },
 "nbformat": 4,
 "nbformat_minor": 2
}
