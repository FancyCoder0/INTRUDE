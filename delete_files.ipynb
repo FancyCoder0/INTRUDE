{
 "cells": [
  {
   "cell_type": "code",
   "execution_count": 9,
   "metadata": {
    "scrolled": false
   },
   "outputs": [
    {
     "name": "stdout",
     "output_type": "stream",
     "text": [
      "/DATA/luyao/pr_data/CleverRaven/Cataclysm-DDA/11825/too_large_flag.json\n",
      "/DATA/luyao/pr_data/CleverRaven/Cataclysm-DDA/24816/too_large_flag.json\n",
      "/DATA/luyao/pr_data/CleverRaven/Cataclysm-DDA/22125/too_large_flag.json\n",
      "/DATA/luyao/pr_data/CleverRaven/Cataclysm-DDA/24657/too_large_flag.json\n"
     ]
    }
   ],
   "source": [
    "import os\n",
    "repo = 'CleverRaven/Cataclysm-DDA'\n",
    "\n",
    "repo_path = '/DATA/luyao/pr_data/%s' % repo\n",
    "\n",
    "nums = os.listdir(repo_path)\n",
    "for num in nums:\n",
    "    if not num.isdigit():\n",
    "        continue\n",
    "    t = repo_path + '/' + num + '/too_large_flag.json'\n",
    "    if os.path.exists(t):\n",
    "        print(t)\n",
    "        "
   ]
  },
  {
   "cell_type": "code",
   "execution_count": null,
   "metadata": {},
   "outputs": [],
   "source": []
  }
 ],
 "metadata": {
  "kernelspec": {
   "display_name": "Python 3",
   "language": "python",
   "name": "python3"
  },
  "language_info": {
   "codemirror_mode": {
    "name": "ipython",
    "version": 3
   },
   "file_extension": ".py",
   "mimetype": "text/x-python",
   "name": "python",
   "nbconvert_exporter": "python",
   "pygments_lexer": "ipython3",
   "version": "3.6.5"
  }
 },
 "nbformat": 4,
 "nbformat_minor": 2
}
