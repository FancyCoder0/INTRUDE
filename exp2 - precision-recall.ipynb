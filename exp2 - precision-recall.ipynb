{
 "cells": [
  {
   "cell_type": "code",
   "execution_count": null,
   "metadata": {},
   "outputs": [],
   "source": [
    "# calc recall\n",
    "threshold = 0.60\n",
    "\n",
    "repo_num = {}\n",
    "repo_tot = {}\n",
    "\n",
    "with open('detection/result_on_topk_new_thres.txt') as f:\n",
    "    for t in f.readlines():\n",
    "        r, n1, n2, v = t.strip().split(' ')\n",
    "        v = float(v)\n",
    "                \n",
    "        if r not in repo_num:\n",
    "            repo_num[r] = 0\n",
    "            repo_tot[r] = 0\n",
    "        \n",
    "        repo_tot[r] += 1\n",
    "        if v >= threshold:\n",
    "            repo_num[r] += 1\n",
    "\n",
    "for r in repo_num:\n",
    "    print(r, ':', 1.0 * repo_num[r] / repo_tot[r])\n"
   ]
  },
  {
   "cell_type": "code",
   "execution_count": null,
   "metadata": {},
   "outputs": [],
   "source": [
    "# recall data prep\n",
    "from git import *\n",
    "from comp import *\n",
    "from clf import *\n",
    "\n",
    "c=classify()\n",
    "lastr = None\n",
    "\n",
    "file = 'detection/result_on_topk_new.txt'\n",
    "out = 'detection/result_on_topk_new_thres.txt'\n",
    "\n",
    "with open(file) as f:\n",
    "    for t in f.readlines():\n",
    "        ps = t.replace(',','').replace('[','').replace(']','').split()            \n",
    "        r, n1, n2 = ps[0], ps[1], ps[2]\n",
    "        li = [int(x) for x in ps[3:]]\n",
    "\n",
    "        if lastr != r:\n",
    "            init_model_with_repo(r)\n",
    "            lastr = r\n",
    "\n",
    "        # t1 = c.predict_proba([get_sim(r, n2, n1)])[0][1]\n",
    "        t2 = c.predict_proba([get_sim(r, n2, str(li[0]))])[0][1]\n",
    "\n",
    "        with open(out, 'a') as outf:\n",
    "            print(r, n1, n2, t2, file=outf) \n"
   ]
  }
 ],
 "metadata": {
  "kernelspec": {
   "display_name": "Python 3",
   "language": "python",
   "name": "python3"
  },
  "language_info": {
   "codemirror_mode": {
    "name": "ipython",
    "version": 3
   },
   "file_extension": ".py",
   "mimetype": "text/x-python",
   "name": "python",
   "nbconvert_exporter": "python",
   "pygments_lexer": "ipython3",
   "version": "3.6.5"
  }
 },
 "nbformat": 4,
 "nbformat_minor": 2
}
