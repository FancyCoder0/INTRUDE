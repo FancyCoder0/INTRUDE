{
 "cells": [
  {
   "cell_type": "code",
   "execution_count": null,
   "metadata": {},
   "outputs": [],
   "source": [
    "import json\n",
    "\n",
    "f = json.load(open('the_mark.json'))\n",
    "\n",
    "yf = open('clf/manual_label_true.txt', 'w')\n",
    "nf = open('clf/manual_label_false.txt', 'w')\n",
    "for t in f:\n",
    "\tp = t[3].strip()\n",
    "\tif p == 'Y':\n",
    "\t\tprint(t[0], t[1], t[2], file = yf)\n",
    "\telif p == 'N':\n",
    "\t\tprint(t[0], t[1], t[2], file = nf)\n",
    "\telse:\n",
    "\t\tprint('err', t)\n",
    "\n",
    "yf.close()\n",
    "nf.close()\n"
   ]
  },
  {
   "cell_type": "code",
   "execution_count": null,
   "metadata": {},
   "outputs": [],
   "source": [
    "import codecs\n",
    "yf = open('clf/openpr_label_true.txt', 'w')\n",
    "nf = open('clf/openpr_label_false.txt', 'w')\n",
    "        \n",
    "with codecs.open('manual_label_openpr.txt', encoding='utf-8') as f:\n",
    "    for t in f.readlines():\n",
    "        p = t.split()\n",
    "        \n",
    "        if ('N' in p[4]) or ((len(p) > 5) and ('N' in p[5])):\n",
    "            print(p[0], p[1], p[2], file=nf)\n",
    "        elif ('Y' in p[4]) or ((len(p) > 5) and ('Y' in p[5])):\n",
    "            print(p[0], p[1], p[2], file=yf)\n",
    "        else:\n",
    "            print(t)\n",
    "yf.close()\n",
    "nf.close()   "
   ]
  },
  {
   "cell_type": "code",
   "execution_count": null,
   "metadata": {},
   "outputs": [],
   "source": []
  },
  {
   "cell_type": "code",
   "execution_count": null,
   "metadata": {},
   "outputs": [],
   "source": []
  }
 ],
 "metadata": {
  "kernelspec": {
   "display_name": "Python 3",
   "language": "python",
   "name": "python3"
  },
  "language_info": {
   "codemirror_mode": {
    "name": "ipython",
    "version": 3
   },
   "file_extension": ".py",
   "mimetype": "text/x-python",
   "name": "python",
   "nbconvert_exporter": "python",
   "pygments_lexer": "ipython3",
   "version": "3.6.5"
  }
 },
 "nbformat": 4,
 "nbformat_minor": 2
}
