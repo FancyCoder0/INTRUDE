{
 "cells": [
  {
   "cell_type": "code",
   "execution_count": 9,
   "metadata": {},
   "outputs": [],
   "source": [
    "a = []\n",
    "\n",
    "with open('msr_positive_pairs.txt') as f:\n",
    "    for t in f.readlines():\n",
    "        r, n1, n2 = t.strip().split()\n",
    "        a.append((r, n1, n2))\n",
    "\n",
    "a = sorted(a, key=lambda x: x[0])\n",
    "\n",
    "la = None\n",
    "num = 0\n",
    "\n",
    "t1 = open('first_msr_pairs.txt', 'w')\n",
    "t2 = open('second_msr_pairs.txt', 'w')\n",
    "\n",
    "for x in a:\n",
    "    r, n1, n2 = x\n",
    "    if r != la:\n",
    "        la = r\n",
    "        num += 1\n",
    "\n",
    "    if (num <= 13) or (r == 'rails/rails') or (r == 'facebook/react'):\n",
    "        print(r, n1, n2, file=t2)\n",
    "    else:\n",
    "        print(r, n1, n2, file=t1)\n",
    "\n",
    "t1.close()\n",
    "t2.close()"
   ]
  },
  {
   "cell_type": "code",
   "execution_count": 3,
   "metadata": {},
   "outputs": [
    {
     "name": "stdout",
     "output_type": "stream",
     "text": [
      "14\n",
      "1149\n"
     ]
    }
   ],
   "source": [
    "a = set()\n",
    "num = 0\n",
    "with open('second_msr_pairs.txt') as f:\n",
    "    for t in f.readlines():\n",
    "        r, n1, n2 = t.strip().split()\n",
    "        a.add(r)\n",
    "        num += 1\n",
    "\n",
    "print(len(a))\n",
    "print(num)\n",
    "\n",
    "\n"
   ]
  },
  {
   "cell_type": "code",
   "execution_count": 1,
   "metadata": {},
   "outputs": [
    {
     "name": "stdout",
     "output_type": "stream",
     "text": [
      "0\n"
     ]
    },
    {
     "ename": "KeyboardInterrupt",
     "evalue": "",
     "output_type": "error",
     "traceback": [
      "\u001b[0;31m---------------------------------------------------------------------------\u001b[0m",
      "\u001b[0;31mKeyboardInterrupt\u001b[0m                         Traceback (most recent call last)",
      "\u001b[0;32m<ipython-input-1-200421398269>\u001b[0m in \u001b[0;36m<module>\u001b[0;34m()\u001b[0m\n\u001b[1;32m      8\u001b[0m         \u001b[0;31m#if i % 100 == 0:\u001b[0m\u001b[0;34m\u001b[0m\u001b[0;34m\u001b[0m\u001b[0m\n\u001b[1;32m      9\u001b[0m         \u001b[0mprint\u001b[0m\u001b[0;34m(\u001b[0m\u001b[0mi\u001b[0m\u001b[0;34m)\u001b[0m\u001b[0;34m\u001b[0m\u001b[0m\n\u001b[0;32m---> 10\u001b[0;31m         \u001b[0mprint\u001b[0m\u001b[0;34m(\u001b[0m\u001b[0;34m' '\u001b[0m\u001b[0;34m.\u001b[0m\u001b[0mjoin\u001b[0m\u001b[0;34m(\u001b[0m\u001b[0mrandom_pairs\u001b[0m\u001b[0;34m(\u001b[0m\u001b[0;34m)\u001b[0m\u001b[0;34m)\u001b[0m\u001b[0;34m,\u001b[0m \u001b[0mfile\u001b[0m\u001b[0;34m=\u001b[0m\u001b[0mf\u001b[0m\u001b[0;34m)\u001b[0m\u001b[0;34m\u001b[0m\u001b[0m\n\u001b[0m",
      "\u001b[0;32m~/PR_get/INTRUDE/gen.py\u001b[0m in \u001b[0;36mrandom_pairs\u001b[0;34m()\u001b[0m\n\u001b[1;32m    121\u001b[0m                 \u001b[0;32mbreak\u001b[0m\u001b[0;34m\u001b[0m\u001b[0m\n\u001b[1;32m    122\u001b[0m             \u001b[0;32mexcept\u001b[0m\u001b[0;34m:\u001b[0m\u001b[0;34m\u001b[0m\u001b[0m\n\u001b[0;32m--> 123\u001b[0;31m                 \u001b[0;32mcontinue\u001b[0m\u001b[0;34m\u001b[0m\u001b[0m\n\u001b[0m\u001b[1;32m    124\u001b[0m \u001b[0;34m\u001b[0m\u001b[0m\n\u001b[1;32m    125\u001b[0m         \u001b[0mnums\u001b[0m \u001b[0;34m=\u001b[0m \u001b[0mos\u001b[0m\u001b[0;34m.\u001b[0m\u001b[0mlistdir\u001b[0m\u001b[0;34m(\u001b[0m\u001b[0;34m'/DATA/luyao/pr_data/%s'\u001b[0m \u001b[0;34m%\u001b[0m \u001b[0mrepo\u001b[0m\u001b[0;34m)\u001b[0m\u001b[0;34m\u001b[0m\u001b[0m\n",
      "\u001b[0;31mKeyboardInterrupt\u001b[0m: "
     ]
    }
   ],
   "source": [
    "import sys\n",
    "sys.path.append('/home/luyao/PR_get/INTRUDE')\n",
    "\n",
    "from gen import *\n",
    "\n",
    "with open('/home/luyao/PR_get/INTRUDE/data/clf/second_nondup.txt', 'w+') as f:\n",
    "    for i in range(50000):\n",
    "        if i % 100 == 0:\n",
    "            print(i)\n",
    "        print(' '.join(random_pairs()), file=f)\n"
   ]
  },
  {
   "cell_type": "code",
   "execution_count": null,
   "metadata": {},
   "outputs": [
    {
     "name": "stdout",
     "output_type": "stream",
     "text": [
      "finish write /DATA/luyao/pr_data/symfony/symfony-docs/9437/api.json to file....\n",
      "finish write /DATA/luyao/pr_data/symfony/symfony-docs/3552/api.json to file....\n",
      "finish write /DATA/luyao/pr_data/symfony/symfony-docs/2194/api.json to file....\n",
      "finish write /DATA/luyao/pr_data/symfony/symfony-docs/2304/api.json to file....\n",
      "finish write /DATA/luyao/pr_data/symfony/symfony-docs/9751/api.json to file....\n",
      "finish write /DATA/luyao/pr_data/symfony/symfony-docs/4661/api.json to file....\n",
      "finish write /DATA/luyao/pr_data/symfony/symfony-docs/6067/api.json to file....\n",
      "finish write /DATA/luyao/pr_data/symfony/symfony-docs/7066/api.json to file....\n"
     ]
    }
   ],
   "source": [
    "import sys\n",
    "sys.path.append('/home/luyao/PR_get/INTRUDE')\n",
    "\n",
    "from gen import *\n",
    "\n",
    "print(random_pairs())"
   ]
  },
  {
   "cell_type": "code",
   "execution_count": 2,
   "metadata": {},
   "outputs": [
    {
     "name": "stdout",
     "output_type": "stream",
     "text": [
      "finish write /DATA/luyao/pr_data/kubernetes/kubernetes/4065/raw_diff.json to file....\n",
      "finish write /DATA/luyao/pr_data/mozilla-b2g/gaia/10253/raw_diff.json to file....\n",
      "finish write /DATA/luyao/pr_data/nodejs/node/12777/raw_diff.json to file....\n",
      "finish write /DATA/luyao/pr_data/saltstack/salt/20290/raw_diff.json to file....\n",
      "finish write /DATA/luyao/pr_data/symfony/symfony/3378/raw_diff.json to file....\n",
      "finish write /DATA/luyao/pr_data/symfony/symfony/3378/raw_diff.json to file....\n",
      "finish write /DATA/luyao/pr_data/twbs/bootstrap/6342/raw_diff.json to file....\n",
      "finish write /DATA/luyao/pr_data/twbs/bootstrap/6342/raw_diff.json to file....\n",
      "finish write /DATA/luyao/pr_data/twbs/bootstrap/6342/raw_diff.json to file....\n",
      "finish write /DATA/luyao/pr_data/twbs/bootstrap/6342/raw_diff.json to file....\n",
      "103\n"
     ]
    }
   ],
   "source": [
    "import sys\n",
    "sys.path.append('/home/luyao/PR_get/INTRUDE')\n",
    "\n",
    "from git import *\n",
    "\n",
    "out = open('first_msr_pairs_nolarge.txt', 'w')\n",
    "out2 = open('first_msr_pairs_thelarge.txt', 'w')\n",
    "\n",
    "too_large_num = 0\n",
    "with open('first_msr_pairs.txt') as f:\n",
    "    for t in f.readlines():\n",
    "        r, n1, n2 = t.strip().split()\n",
    "        \n",
    "        if (check_large(get_pull(r, n1)) or check_large(get_pull(r, n2))):\n",
    "            too_large_num += 1\n",
    "            print(r, n1, n2, file=out2)\n",
    "            continue\n",
    "            \n",
    "        else:\n",
    "            print(r, n1, n2, file=out)\n",
    "out.close()\n",
    "out2.close()\n",
    "print(too_large_num)\n",
    "        \n"
   ]
  },
  {
   "cell_type": "code",
   "execution_count": 5,
   "metadata": {},
   "outputs": [
    {
     "name": "stdout",
     "output_type": "stream",
     "text": [
      "False\n"
     ]
    }
   ],
   "source": [
    "\n",
    "import sys\n",
    "sys.path.append('/home/luyao/PR_get/INTRUDE')\n",
    "\n",
    "from git import *\n",
    "\n",
    "p = get_pull('kubernetes/kubernetes' , '41106')\n",
    "\n",
    "print(check_large(p))"
   ]
  },
  {
   "cell_type": "code",
   "execution_count": null,
   "metadata": {},
   "outputs": [],
   "source": []
  }
 ],
 "metadata": {
  "kernelspec": {
   "display_name": "Python 3",
   "language": "python",
   "name": "python3"
  },
  "language_info": {
   "codemirror_mode": {
    "name": "ipython",
    "version": 3
   },
   "file_extension": ".py",
   "mimetype": "text/x-python",
   "name": "python",
   "nbconvert_exporter": "python",
   "pygments_lexer": "ipython3",
   "version": "3.6.5"
  }
 },
 "nbformat": 4,
 "nbformat_minor": 2
}
