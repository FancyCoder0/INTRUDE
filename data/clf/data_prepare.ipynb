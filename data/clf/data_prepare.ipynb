{
 "cells": [
  {
   "cell_type": "code",
   "execution_count": null,
   "metadata": {},
   "outputs": [],
   "source": [
    "a = []\n",
    "\n",
    "with open('msr_positive_pairs.txt') as f:\n",
    "    for t in f.readlines():\n",
    "        r, n1, n2 = t.strip().split()\n",
    "        a.append((r, n1, n2))\n",
    "\n",
    "a = sorted(a, key=lambda x: x[0])\n",
    "\n",
    "la = None\n",
    "num = 0\n",
    "\n",
    "t1 = open('first_msr_pairs.txt', 'w')\n",
    "t2 = open('second_msr_pairs.txt', 'w')\n",
    "\n",
    "for x in a:\n",
    "    r, n1, n2 = x\n",
    "    if r != la:\n",
    "        la = r\n",
    "        num += 1\n",
    "\n",
    "    if (num <= 13) or (r == 'rails/rails') or (r == 'facebook/react'):\n",
    "        print(r, n1, n2, file=t2)\n",
    "    else:\n",
    "        print(r, n1, n2, file=t1)\n",
    "\n",
    "t1.close()\n",
    "t2.close()"
   ]
  },
  {
   "cell_type": "code",
   "execution_count": null,
   "metadata": {},
   "outputs": [],
   "source": [
    "a = set()\n",
    "num = 0\n",
    "with open('second_msr_pairs.txt') as f:\n",
    "    for t in f.readlines():\n",
    "        r, n1, n2 = t.strip().split()\n",
    "        a.add(r)\n",
    "        num += 1\n",
    "\n",
    "print(len(a))\n",
    "print(num)\n",
    "\n",
    "\n"
   ]
  },
  {
   "cell_type": "code",
   "execution_count": null,
   "metadata": {},
   "outputs": [],
   "source": [
    "import sys\n",
    "sys.path.append('/home/luyao/PR_get/INTRUDE')\n",
    "\n",
    "from gen import *\n",
    "\n",
    "with open('/home/luyao/PR_get/INTRUDE/data/clf/big_nondup.txt', 'w+') as f:\n",
    "    for i in range(1000000):\n",
    "        if i % 100 == 0:\n",
    "            print(i)\n",
    "        print(' '.join(random_pairs()), file=f)\n"
   ]
  },
  {
   "cell_type": "code",
   "execution_count": null,
   "metadata": {},
   "outputs": [],
   "source": [
    "import sys\n",
    "sys.path.append('/home/luyao/PR_get/INTRUDE')\n",
    "\n",
    "from gen import *\n",
    "\n",
    "print(random_pairs())"
   ]
  },
  {
   "cell_type": "code",
   "execution_count": 1,
   "metadata": {},
   "outputs": [
    {
     "name": "stdout",
     "output_type": "stream",
     "text": [
      "finish write /DATA/luyao/pr_data/JuliaLang/julia/11244/raw_diff.json to file....\n",
      "finish write /DATA/luyao/pr_data/angular/angular.js/2265/raw_diff.json to file....\n",
      "finish write /DATA/luyao/pr_data/angular/angular.js/15535/raw_diff.json to file....\n",
      "finish write /DATA/luyao/pr_data/ceph/ceph/10427/raw_diff.json to file....\n",
      "finish write /DATA/luyao/pr_data/ceph/ceph/14135/raw_diff.json to file....\n",
      "finish write /DATA/luyao/pr_data/dotnet/corefx/6058/raw_diff.json to file....\n",
      "finish write /DATA/luyao/pr_data/joomla/joomla-cms/1140/raw_diff.json to file....\n",
      "94\n"
     ]
    }
   ],
   "source": [
    "import sys\n",
    "sys.path.append('/home/luyao/PR_get/INTRUDE')\n",
    "\n",
    "from git import *\n",
    "\n",
    "out = open('second_msr_pairs_nolarge.txt', 'w')\n",
    "out2 = open('second_msr_pairs_thelarge.txt', 'w')\n",
    "\n",
    "too_large_num = 0\n",
    "with open('second_msr_pairs.txt') as f:\n",
    "    for t in f.readlines():\n",
    "        r, n1, n2 = t.strip().split()\n",
    "        \n",
    "        if (check_large(get_pull(r, n1)) or check_large(get_pull(r, n2))):\n",
    "            too_large_num += 1\n",
    "            print(r, n1, n2, file=out2)\n",
    "            continue\n",
    "            \n",
    "        else:\n",
    "            print(r, n1, n2, file=out)\n",
    "out.close()\n",
    "out2.close()\n",
    "print(too_large_num)\n",
    "        \n"
   ]
  },
  {
   "cell_type": "code",
   "execution_count": null,
   "metadata": {},
   "outputs": [],
   "source": [
    "\n",
    "import sys\n",
    "sys.path.append('/home/luyao/PR_get/INTRUDE')\n",
    "\n",
    "from git import *\n",
    "\n",
    "p = get_pull('kubernetes/kubernetes' , '41106')\n",
    "\n",
    "print(check_large(p))"
   ]
  },
  {
   "cell_type": "code",
   "execution_count": null,
   "metadata": {
    "scrolled": false
   },
   "outputs": [],
   "source": [
    "from git import *\n",
    "from datetime import datetime, timedelta\n",
    "\n",
    "def get_time(t):\n",
    "    return datetime.strptime(t, \"%Y-%m-%dT%H:%M:%SZ\")\n",
    "\n",
    "with open('second_msr_pairs_nolarge.txt') as f:\n",
    "    for t in f.readlines():\n",
    "        r, n1, n2 = t.strip().split()\n",
    "        if n1 > n2:\n",
    "            n1, n2 = n2, n1\n",
    "        \n",
    "        pullA = get_pull(r, n2)\n",
    "        \n",
    "        pull = get_pull(r, n1)\n",
    "        \n",
    "        if abs((get_time(pullA[\"updated_at\"]) - \\\n",
    "                get_time(pull[\"updated_at\"])).days) >= 5 * 365: # more than 4 years\n",
    "            print('too old', t)\n",
    "            print(abs((get_time(pullA[\"updated_at\"]) - get_time(pull[\"updated_at\"])).days))\n",
    "\n",
    "        # same author\n",
    "        if pullA[\"user\"][\"id\"] == pull[\"user\"][\"id\"]:\n",
    "            print('same', t)\n",
    "        \n",
    "        if (pull[\"merged_at\"] is not None) and \\\n",
    "           (get_time(pull[\"merged_at\"]) < get_time(pullA[\"created_at\"])):\n",
    "            print('merge', t)\n"
   ]
  },
  {
   "cell_type": "code",
   "execution_count": 6,
   "metadata": {},
   "outputs": [
    {
     "name": "stdout",
     "output_type": "stream",
     "text": [
      "0\n"
     ]
    }
   ],
   "source": [
    "\n",
    "import sys\n",
    "sys.path.append('/home/luyao/PR_get/INTRUDE')\n",
    "\n",
    "from git import *\n",
    "\n",
    "out = open('first_nondup2.txt', 'w')\n",
    "\n",
    "too_large_num = 0\n",
    "with open('first_nondup.txt') as f:\n",
    "    for t in f.readlines():\n",
    "        r, n1, n2 = t.strip().split()\n",
    "        \n",
    "        def check(r, n):\n",
    "            p = get_pull(r, n)\n",
    "            fetch_file_list(p)\n",
    "\n",
    "            path = '/DATA/luyao/pr_data/%s/%s/raw_diff.json' % (pull[\"base\"][\"repo\"][\"full_name\"], str(pull[\"number\"]))\n",
    "            if os.path.getsize(path) >= 50 * 1024:\n",
    "                return True\n",
    "            \n",
    "            return False\n",
    "        \n",
    "        if check(r, n1) or check(r, n2):\n",
    "            too_large_num += 1\n",
    "        else:\n",
    "            print(r, n1, n2, file=out)\n",
    "out.close()\n",
    "print(too_large_num)\n",
    "        \n"
   ]
  },
  {
   "cell_type": "code",
   "execution_count": 5,
   "metadata": {},
   "outputs": [
    {
     "name": "stdout",
     "output_type": "stream",
     "text": [
      "zendframework/zendframework 911\n"
     ]
    }
   ],
   "source": [
    "import sys\n",
    "sys.path.append('/home/luyao/PR_get/INTRUDE')\n",
    "\n",
    "from git import *\n",
    "\n",
    "pull = get_pull('zendframework/zf2', '911')\n",
    "fetch_file_list(pull)\n",
    "\n",
    "repo, num = pull[\"base\"][\"repo\"][\"full_name\"], str(pull[\"number\"])\n",
    "\n",
    "print(repo, num)"
   ]
  },
  {
   "cell_type": "code",
   "execution_count": null,
   "metadata": {},
   "outputs": [],
   "source": []
  }
 ],
 "metadata": {
  "kernelspec": {
   "display_name": "Python 3",
   "language": "python",
   "name": "python3"
  },
  "language_info": {
   "codemirror_mode": {
    "name": "ipython",
    "version": 3
   },
   "file_extension": ".py",
   "mimetype": "text/x-python",
   "name": "python",
   "nbconvert_exporter": "python",
   "pygments_lexer": "ipython3",
   "version": "3.6.5"
  }
 },
 "nbformat": 4,
 "nbformat_minor": 2
}
