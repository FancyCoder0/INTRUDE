{
 "cells": [
  {
   "cell_type": "code",
   "execution_count": 2,
   "metadata": {
    "scrolled": true
   },
   "outputs": [],
   "source": [
    "from git import *\n",
    "\n",
    "def check_pro_pick(p1, p2):\n",
    "\tif set([x[1] for x in pull_commit_sha(p1)]) & set([x[1] for x in pull_commit_sha(p2)]):\n",
    "\t\treturn True\n",
    "\treturn False\n",
    "\n",
    "file = 'data/tmpin.txt'\n",
    "out = 'data/tmpout.txt'\n",
    "out = open(out, 'w')\n",
    "with open(file) as f:\n",
    "\tfor t in f.readlines():\n",
    "\t\ttt = t.strip().split()\n",
    "\t\tif len(tt) < 3:\n",
    "\t\t\tcontinue          \n",
    "\t\tr, n1, n2 = tt[0], tt[1], tt[2]\n",
    "\t\tp1 = get_pull(r, n1)\n",
    "\t\tp2 = get_pull(r, n2)\n",
    "\t\tprint(check_pro_pick(p1, p2), file=out)\n",
    "out.close()\n"
   ]
  },
  {
   "cell_type": "code",
   "execution_count": 28,
   "metadata": {},
   "outputs": [
    {
     "name": "stdout",
     "output_type": "stream",
     "text": [
      "False\n"
     ]
    }
   ],
   "source": [
    "from git import *\n",
    "\n",
    "def check_pro_pick(p1, p2):\n",
    "\tif set([x[1] for x in pull_commit_sha(p1)]) & set([x[1] for x in pull_commit_sha(p2)]):\n",
    "\t\treturn True\n",
    "\treturn False\n",
    "\n",
    "r, n1, n2 = 'dotnet/corefx', '30225', '20986'\n",
    "p1 = get_pull(r, n1)\n",
    "p2 = get_pull(r, n2)\n",
    "print(check_pro_pick(p1, p2))"
   ]
  },
  {
   "cell_type": "code",
   "execution_count": null,
   "metadata": {},
   "outputs": [],
   "source": []
  }
 ],
 "metadata": {
  "kernelspec": {
   "display_name": "Python 3",
   "language": "python",
   "name": "python3"
  },
  "language_info": {
   "codemirror_mode": {
    "name": "ipython",
    "version": 3
   },
   "file_extension": ".py",
   "mimetype": "text/x-python",
   "name": "python",
   "nbconvert_exporter": "python",
   "pygments_lexer": "ipython3",
   "version": "3.6.5"
  }
 },
 "nbformat": 4,
 "nbformat_minor": 2
}
