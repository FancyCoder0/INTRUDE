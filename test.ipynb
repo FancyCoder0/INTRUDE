{
 "cells": [
  {
   "cell_type": "code",
   "execution_count": null,
   "metadata": {
    "scrolled": false
   },
   "outputs": [],
   "source": [
    "from git import *\n",
    "from comp import *\n",
    "from clf import *\n",
    "\n",
    "'''\n",
    "#p1=get_pull('laravel/framework','4138')\n",
    "#p2=get_pull('laravel/framework','2678')\n",
    "\n",
    "s = 'elastic/elasticsearch 6287 6058'\n",
    "\n",
    "# s = 'elastic/elasticsearch 27744 27600'\n",
    "\n",
    "\n",
    "repo, n1, n2 = s.split()\n",
    "\n",
    "init_model_with_repo(repo)\n",
    "\n",
    "p1=get_pull(repo, n1)\n",
    "p2=get_pull(repo, n2)\n",
    "\n",
    "# print(get_numbers(p1['body']), get_numbers(p2['body']))\n",
    "#calc_sim(p1,p2)\n",
    "\n",
    "c = classify()\n",
    "\n",
    "vet = get_pr_sim_vector(p1,p2)\n",
    "\n",
    "print(vet)\n",
    "\n",
    "\n",
    "ret = c.predict_proba([vet])[0][1]\n",
    "\n",
    "print(ret)\n",
    "'''\n",
    "\n",
    "from detect import *\n",
    "\n",
    "#print(get_topK('elastic/elasticsearch', '6287', 10, True))\n",
    "\n",
    "print(get_topK('facebook/react', '4426', 10, True))\n",
    "print(get_topK('facebook/react', '1702', 10, True))\n"
   ]
  },
  {
   "cell_type": "code",
   "execution_count": null,
   "metadata": {},
   "outputs": [],
   "source": [
    "import simulate_part_pr\n",
    "\n",
    "\n",
    "\n",
    "s = 'angular/angular.js\t8492\t8233'\n",
    "repo, n1, n2 = s.split()\n",
    "\n",
    "init_model_with_repo(repo)\n",
    "\n",
    "simulate_part_pr.simulate(repo, n1, n2)\n"
   ]
  },
  {
   "cell_type": "code",
   "execution_count": null,
   "metadata": {},
   "outputs": [],
   "source": [
    "import detect\n",
    "%time detect.get_topK('facebook/react', '8635', 10, True)"
   ]
  },
  {
   "cell_type": "code",
   "execution_count": null,
   "metadata": {
    "scrolled": false
   },
   "outputs": [],
   "source": [
    "from git import *\n",
    "\n",
    "repos = open('data/msr_repo_list.txt').readlines()\n",
    "\n",
    "# repo = 'cocos2d/cocos2d-x'\n",
    "\n",
    "for repo in repos:\n",
    "\n",
    "    pulls = get_pull_list(repo, False)\n",
    "\n",
    "    num, tot = 0, 0\n",
    "    for pull in pulls:\n",
    "        tot += 1\n",
    "        if len(get_pr_numbers(str(pull['title']) + str(pull['body']))) > 0:\n",
    "            num += 1\n",
    "    print(repo.strip(), ':', 1.0 * num / tot)\n"
   ]
  },
  {
   "cell_type": "code",
   "execution_count": null,
   "metadata": {},
   "outputs": [],
   "source": [
    "from main import *\n",
    "\n",
    "# init_model_with_repo('Ultimaker/Ultimaker2Marlin')\n",
    "init_model_with_repo('MarlinFirmware/Marlin')\n",
    "get_sim_vector(get_pull('Ultimaker/Ultimaker2Marlin', '50'), get_pull('MarlinFirmware/Marlin', '1402'))"
   ]
  },
  {
   "cell_type": "code",
   "execution_count": null,
   "metadata": {},
   "outputs": [],
   "source": [
    "from main import *\n",
    "\n",
    "# init_model_with_repo('ceph/ceph')\n",
    "\n",
    "p1 = get_pull('hashicorp/terraform', '6827')\n",
    "t = get_another_pull(p1)\n",
    "print(type(t[0]))\n",
    "print(get_another_pull(p1))\n",
    "\n",
    "print(type(p1[\"number\"]))\n",
    "'''\n",
    "p2 = get_pull('ceph/ceph', '10427')\n",
    "print(get_BoW(p1[\"title\"]))\n",
    "print(get_BoW(p2[\"title\"]))\n",
    "\n",
    "print(get_sim('ceph/ceph', '10438', '10427'))\n",
    "\n",
    "print(check_pattern(p1, p2))\n",
    "'''"
   ]
  },
  {
   "cell_type": "code",
   "execution_count": null,
   "metadata": {},
   "outputs": [],
   "source": [
    "from main import *\n",
    "\n",
    "# init_model_with_repo('Ultimaker/Ultimaker2Marlin')\n",
    "init_model_with_repo('MarlinFirmware/Marlin')\n",
    "get_sim_vector(get_pull('Ultimaker/Ultimaker2Marlin', '50'), get_pull('MarlinFirmware/Marlin', '1402'))"
   ]
  },
  {
   "cell_type": "code",
   "execution_count": null,
   "metadata": {},
   "outputs": [],
   "source": [
    "from main import *\n",
    "\n",
    "# init_model_with_repo('Ultimaker/Ultimaker2Marlin')\n",
    "init_model_with_repo('MarlinFirmware/Marlin')\n",
    "get_pr_sim_vector(get_pull('Ultimaker/Ultimaker2Marlin', '50'), get_pull('MarlinFirmware/Marlin', '1402'))"
   ]
  },
  {
   "cell_type": "code",
   "execution_count": null,
   "metadata": {},
   "outputs": [],
   "source": [
    "import main\n",
    "# main.init_model_with_repo('facebook/react')\n",
    "# main.get_sim('facebook/react', '12767', '11770')\n",
    "\n",
    "main.init_model_with_repo('facebook/react')\n",
    "main.get_sim('facebook/react', '466', '433')\n",
    "\n"
   ]
  },
  {
   "cell_type": "code",
   "execution_count": null,
   "metadata": {},
   "outputs": [],
   "source": [
    "import main\n",
    "main.init_model_with_repo('facebook/react')\n",
    "main.get_sim('facebook/react', '12767', '11770')\n",
    "\n"
   ]
  },
  {
   "cell_type": "code",
   "execution_count": null,
   "metadata": {},
   "outputs": [],
   "source": [
    "import main\n",
    "import git\n",
    "\n",
    "%time main.init_model_with_pulls(git.get_pull_list('MarlinFirmware/Marlin'))\n",
    "\n",
    "'''\n",
    "import main\n",
    "main.init_model_with_repo('SignalR/SignalR')\n",
    "main.get_sim('SignalR/SignalR', '3094', '3862')\n",
    "'''"
   ]
  },
  {
   "cell_type": "code",
   "execution_count": null,
   "metadata": {},
   "outputs": [],
   "source": [
    "import re\n",
    "def camel_case_split(identifier):\n",
    "    matches = re.finditer('.+?(?:(?<=[a-z])(?=[A-Z])|(?<=[A-Z])(?=[A-Z][a-z])|$)', identifier)\n",
    "    return [m.group(0) for m in matches]\n",
    "\n",
    "print(camel_case_split('AasAdsaB'))\n",
    "print(camel_case_split('dasAdsaBcdas'))\n",
    "print(camel_case_split('ARM64'))\n",
    "\n",
    "print(camel_case_split('321jca+dsad321_dsaAz'))"
   ]
  },
  {
   "cell_type": "code",
   "execution_count": null,
   "metadata": {},
   "outputs": [],
   "source": [
    "import main\n",
    "c = main.classify() # all\n",
    "\n",
    "\"\"\"\n",
    "with open('tmp/1.txt') as f:\n",
    "    for l in f.readlines():\n",
    "        if len(l)<=3:\n",
    "            continue\n",
    "        p, n1, n2 = l.split()\n",
    "        \n",
    "        t = main.get_sim(p, n1, n2)\n",
    "        \n",
    "        print(c.predict([t])[0], p, n1, n2, t)\n",
    "\"\"\"\n",
    "\n",
    "with open('')\n",
    "X_test = localfile_tool.get_file('data/improve_false_data_msr_positive_pairs_lsi_X.json')\n",
    "y_test = localfile_tool.get_file('data/improve_false_data_msr_positive_pairs_lsi_y.json')\n",
    "\n",
    "acc = c.score(X_test, y_test)\n",
    "print('Mean Accuracy:', acc)\n",
    "\n",
    "# c.predict()\n"
   ]
  },
  {
   "cell_type": "code",
   "execution_count": null,
   "metadata": {},
   "outputs": [],
   "source": [
    "import main\n",
    "main.get_sim('mozilla-b2g/gaia', '2420', '2459')"
   ]
  },
  {
   "cell_type": "code",
   "execution_count": null,
   "metadata": {},
   "outputs": [],
   "source": [
    "import main\n",
    "p = main.get_pull('mozilla-b2g/gaia', '2420')\n",
    "f = fetch_pr_info(p)\n",
    "print([x[\"name\"] for x in f])\n"
   ]
  },
  {
   "cell_type": "code",
   "execution_count": null,
   "metadata": {},
   "outputs": [],
   "source": [
    "from main import *\n",
    "from git import *\n",
    "from comparer import *\n",
    "\n",
    "repo = 'spring-projects/spring-framework'\n",
    "init_model_with_pulls([], repo.replace('/','_') + '_all')\n",
    "# init_model_with_repo(repo)\n",
    "\n",
    "x = 'Changed min accepted day of month to 1'\n",
    "y = 'Support for the last day in month cron expression'\n",
    "\n",
    "'''\n",
    "x = 'Tokenizer - removing unnecessary boxing'\n",
    "y = 'Tokenizer - removes unnecessary boxing of char'\n",
    "'''\n",
    "\n",
    "%timeit text_sim(x,y)\n",
    "# text_sim(x,y)\n",
    "'''\n",
    "print(model.get_tfidf(get_BoW(x)))\n",
    "print(model.get_tfidf(get_BoW(y)))\n",
    "c = set(get_BoW(x)) & set(get_BoW(y))\n",
    "print(model.get_idf_sum(c))\n",
    "'''"
   ]
  },
  {
   "cell_type": "code",
   "execution_count": null,
   "metadata": {},
   "outputs": [],
   "source": [
    "from util import localfile\n",
    "ps = localfile.get_file('data/msr_positive_pairs_feature_vector_all_clues_with_text_lsi_code_bow_X.json')\n",
    "for p in ps:\n",
    "    if p[0] >= 0.9:\n",
    "        print(p[0], p[2])\n",
    "    "
   ]
  },
  {
   "cell_type": "code",
   "execution_count": null,
   "metadata": {
    "scrolled": true
   },
   "outputs": [],
   "source": [
    "from git import *\n",
    "from comp import *\n",
    "\n",
    "def func(file):\n",
    "\n",
    "    num = 0\n",
    "    tot = 0\n",
    "    with open(file) as f:\n",
    "        for f0 in f.readlines():\n",
    "            r, n1, n2 = f0.split()\n",
    "            p1 = get_pull(r, n1)\n",
    "            p2 = get_pull(r, n2)\n",
    "            s1 = get_tokens(p1['title'])\n",
    "            s2 = get_tokens(p2['title'])\n",
    "            if (set(s1) & set(s2)):\n",
    "                t = len(s1) + len(s1)\n",
    "                num += 1\n",
    "                tot += t\n",
    "\n",
    "    print (1.0 * tot / num)\n",
    "    \n",
    "func('data/clf/small_part_negative.txt')\n",
    "func('data/clf/msr_positive_pairs.txt')\n",
    "\n",
    "                                    \n",
    "'''                      \n",
    "with open('data/clf/manual_label_false.txt') as f:\n",
    "    for t in f.readlines():\n",
    "        r, n1, n2 = t.split()\n",
    "        p1 = get_pull(r, n1)\n",
    "        p2 = get_pull(r, n2)\n",
    "        t = set(get_tokens(p1['title'])) & set(get_tokens(p2['title']))\n",
    "        if t:\n",
    "            print(t)\n",
    "'''     "
   ]
  },
  {
   "cell_type": "code",
   "execution_count": null,
   "metadata": {},
   "outputs": [],
   "source": [
    "\n",
    "from git import *\n",
    "from comp import *\n",
    "\n",
    "r = 'laravel/framework'\n",
    "\n",
    "ps = get_repo_info(r, 'pull')\n",
    "tot = 0\n",
    "cnt = 0\n",
    "for p in ps:\n",
    "    cnt += 1\n",
    "    print(cnt)\n",
    "\n",
    "    file_list = fetch_pr_info(p)\n",
    "    for file in file_list:\n",
    "        tot += len(file[\"add_code\"]) + len(file[\"del_code\"])\n",
    "\n",
    "print('tot=', tot)\n",
    "\n"
   ]
  },
  {
   "cell_type": "code",
   "execution_count": 1,
   "metadata": {},
   "outputs": [
    {
     "name": "stdout",
     "output_type": "stream",
     "text": [
      "text_sim_type= lsi\n",
      "code_sim_type= tfidf\n",
      "extract_sim_type= ori_and_overlap\n",
      "Data Type: all_clues_with_text_lsi_code_tfidf_ori_and_overlap_len\n",
      "Model Data Input= /home/luyao/PR_get/INTRUDE/data/clf/manual_label_false.txt\n",
      "warning: feature vectore already exists! /home/luyao/PR_get/INTRUDE/data/clf/manual_label_false_feature_vector_all_clues_with_text_lsi_code_tfidf_ori_and_overlap_len\n",
      "Model Data Input= /home/luyao/PR_get/INTRUDE/data/clf/manual_label_true.txt\n",
      "warning: feature vectore already exists! /home/luyao/PR_get/INTRUDE/data/clf/manual_label_true_feature_vector_all_clues_with_text_lsi_code_tfidf_ori_and_overlap_len\n",
      "Model Data Input= /home/luyao/PR_get/INTRUDE/data/clf/openpr_label_false.txt\n",
      "warning: feature vectore already exists! /home/luyao/PR_get/INTRUDE/data/clf/openpr_label_false_feature_vector_all_clues_with_text_lsi_code_tfidf_ori_and_overlap_len\n",
      "Model Data Input= /home/luyao/PR_get/INTRUDE/data/clf/openpr_label_true.txt\n",
      "warning: feature vectore already exists! /home/luyao/PR_get/INTRUDE/data/clf/openpr_label_true_feature_vector_all_clues_with_text_lsi_code_tfidf_ori_and_overlap_len\n",
      "0.6660\t41.1130\t0.2463\t5571.9652\t0.2533\t0.2951\t0.5969\t47.1478\t0.3870\t0.5611\t-0.4435\n",
      "0.6377\t49.0976\t0.3262\t18042.4024\t0.4822\t0.5085\t0.7275\t52.9146\t0.5835\t0.7092\t0.0244\n"
     ]
    }
   ],
   "source": [
    "from numpy import array\n",
    "from numpy import median\n",
    "from clf import *\n",
    "\n",
    "\n",
    "def q(a):\n",
    "    print('\\t'.join(['{0:0.4f}'.format(1.0 * sum(a[:,i]) / len(a)) for i in range(len(a[0]))]))\n",
    "    \n",
    "    # print('\\t'.join(['{0:0.4f}'.format(median(a[:,i])) for i in range(len(a[0]))]))\n",
    "    \n",
    "f = []\n",
    "for s in dataset:\n",
    "    new_X, new_y = get_feature_vector(s[0], s[1], model_data_renew_flag, model_data_save_path_suffix)\n",
    "    f.append(new_X)\n",
    "\n",
    "no = f[0]\n",
    "yes = f[1]\n",
    "\n",
    "no = array(no)\n",
    "yes = array(yes)\n",
    "\n",
    "q(no)\n",
    "q(yes)\n",
    "\n",
    "\n",
    "# sum(L) / float(len(L))\n",
    "\n",
    "    "
   ]
  },
  {
   "cell_type": "code",
   "execution_count": 3,
   "metadata": {
    "scrolled": true
   },
   "outputs": [
    {
     "name": "stdout",
     "output_type": "stream",
     "text": [
      "cnt laravel/framework\n",
      "cnt Apple/swift\n",
      "cnt facebook/react\n",
      "cnt elastic/elasticsearch\n",
      "cnt facebook/react\n",
      "cnt Apple/swift\n",
      "cnt CocoaPods/Specs\n",
      "cnt facebook/react\n",
      "cnt laravel/framework\n",
      "cnt rust-lang/rust\n",
      "cnt Apple/swift\n",
      "cnt elastic/elasticsearch\n",
      "cnt facebook/react\n",
      "cnt laravel/framework\n",
      "cnt elastic/elasticsearch\n",
      "cnt facebook/react\n",
      "cnt apache/spark\n",
      "cnt mozilla-b2g/gaia\n",
      "cnt cms-sw/cmssw\n",
      "cnt symfony/symfony\n",
      "cnt cms-sw/cmssw\n",
      "cnt Homebrew/homebrew-cask\n",
      "cnt elastic/elasticsearch\n",
      "cnt cocos2d/cocos2d-x\n",
      "cnt elastic/elasticsearch\n",
      "907.12368114698\n"
     ]
    }
   ],
   "source": [
    "from clf import *\n",
    "from comp import *\n",
    "\n",
    "last = None\n",
    "q = []\n",
    "\n",
    "cnt = {}\n",
    "\n",
    "with open('/home/luyao/PR_get/INTRUDE/data/clf/manual_label_true.txt') as f:\n",
    "    for pair in f.readlines():\n",
    "        r, n1, n2 = pair.split()\n",
    "        \n",
    "        if r != last:\n",
    "            last = r\n",
    "            # init_model_with_repo(r)\n",
    "            print('cnt', r)\n",
    "            cnt = {}\n",
    "            ps = get_repo_info(r, 'pull')\n",
    "            for p in ps:\n",
    "                for x in get_tokens(p['title']):\n",
    "                    if x not in cnt:\n",
    "                        cnt[x] = 0\n",
    "                    cnt[x] += 1\n",
    "        \n",
    "        p1 = get_pull(r, n1)\n",
    "        p2 = get_pull(r, n2)\n",
    "        \n",
    "        def add(p):\n",
    "            x = [cnt.get(word, 0) for word in get_tokens(p['title'])]\n",
    "            q.append(sum(x) / len(x))\n",
    "            \n",
    "        add(p1)\n",
    "        add(p2)\n",
    "\n",
    "print(sum(q) / len(q))\n",
    "\n"
   ]
  },
  {
   "cell_type": "code",
   "execution_count": 23,
   "metadata": {},
   "outputs": [
    {
     "name": "stdout",
     "output_type": "stream",
     "text": [
      "init nlp model with bitcoin/bitcoin data!\n",
      "model already exists!\n",
      "init nlp model for text successfully!\n",
      "model already exists!\n",
      "init nlp model for code successfully!\n",
      "[-0.001940913628447952, 40, 0.039121925402455134, 4309, 0.10091198846589365, 0.1214886369026938, 0.2222222222222222, 2, 0.42610364683301344, 0.5229681978798587, -1]\n"
     ]
    }
   ],
   "source": [
    "from clf import *\n",
    "from comp import *\n",
    "\n",
    "init_model_with_repo('bitcoin/bitcoin')\n",
    "p1 = get_pull('peercoin/peercoin', '219')\n",
    "p2 = get_pull('bitcoin/bitcoin', '5509')\n",
    "\n",
    "print(get_pr_sim_vector(p1, p2))\n"
   ]
  },
  {
   "cell_type": "code",
   "execution_count": null,
   "metadata": {},
   "outputs": [],
   "source": []
  }
 ],
 "metadata": {
  "kernelspec": {
   "display_name": "Python 3",
   "language": "python",
   "name": "python3"
  },
  "language_info": {
   "codemirror_mode": {
    "name": "ipython",
    "version": 3
   },
   "file_extension": ".py",
   "mimetype": "text/x-python",
   "name": "python",
   "nbconvert_exporter": "python",
   "pygments_lexer": "ipython3",
   "version": "3.6.5"
  }
 },
 "nbformat": 4,
 "nbformat_minor": 2
}
