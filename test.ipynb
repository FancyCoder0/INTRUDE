{
 "cells": [
  {
   "cell_type": "code",
   "execution_count": 4,
   "metadata": {},
   "outputs": [
    {
     "name": "stdout",
     "output_type": "stream",
     "text": [
      "init nlp model with saltstack/salt data!\n",
      "model already exists!\n",
      "init nlp model for text successfully!\n"
     ]
    },
    {
     "data": {
      "text/plain": [
       "[0.9999999999999999,\n",
       " 1.7293897590512757,\n",
       " 0.9999999999999999,\n",
       " 0.0,\n",
       " 0.0,\n",
       " 0.0,\n",
       " 0,\n",
       " 0.0,\n",
       " 0.0,\n",
       " 1]"
      ]
     },
     "execution_count": 4,
     "metadata": {},
     "output_type": "execute_result"
    }
   ],
   "source": [
    "from git import *\n",
    "from comp import *\n",
    "from clf import *\n",
    "\n",
    "#p1=get_pull('laravel/framework','4138')\n",
    "#p2=get_pull('laravel/framework','2678')\n",
    "\n",
    "s = 'saltstack/salt\t33139\t25748'\n",
    "repo, n1, n2 = s.split()\n",
    "\n",
    "init_model_with_repo(repo)\n",
    "\n",
    "p1=get_pull(repo, n1)\n",
    "p2=get_pull(repo, n2)\n",
    "\n",
    "# print(get_numbers(p1['body']), get_numbers(p2['body']))\n",
    "#calc_sim(p1,p2)\n",
    "get_pr_sim_vector(p1,p2)"
   ]
  },
  {
   "cell_type": "code",
   "execution_count": 8,
   "metadata": {},
   "outputs": [
    {
     "name": "stdout",
     "output_type": "stream",
     "text": [
      "init nlp model with angular/angular.js data!\n",
      "model already exists!\n",
      "init nlp model for text successfully!\n",
      "MDExOlB1bGxSZXF1ZXN0MTkzNjM3Mjc=\n",
      "MDExOlB1bGxSZXF1ZXN0MTg1MTk0NjA=\n",
      "{'title': 0.17313948953210573, 'desc': 0.19139947420576975, 'file_list': 0.020618556701030927, 'location': 0.4339622641509434, 'pattern': 0, 'overlap_files_len': 2, 'overlap_title_len': 2, 'title_idf_sum': 1.271148317333966, 'code': 0.12700665935729324}\n",
      "0.24041110916865743\n",
      "-------------------\n",
      "{'title': 0.11825370698274959, 'desc': 0.2103790863755459, 'file_list': 0.020618556701030927, 'location': 0.0, 'pattern': 0, 'overlap_files_len': 2, 'overlap_title_len': 1, 'title_idf_sum': 1.0, 'code': 0.0}\n",
      "0.05424885577697852\n",
      "-------------------\n",
      "{'title': 0.19139639144083295, 'desc': 0.2602390760252785, 'file_list': 0.020618556701030927, 'location': 0.0, 'pattern': 0, 'overlap_files_len': 2, 'overlap_title_len': 3, 'title_idf_sum': 1.6860471891007487, 'code': 0.0}\n",
      "0.10241593734737466\n",
      "-------------------\n",
      "{'title': 0.17096827815917606, 'desc': 0.25927349987270265, 'file_list': 0.020618556701030927, 'location': 0.0, 'pattern': 0, 'overlap_files_len': 2, 'overlap_title_len': 3, 'title_idf_sum': 1.6860471891007487, 'code': 0.0}\n",
      "0.0873441773598214\n",
      "-------------------\n"
     ]
    },
    {
     "data": {
      "text/plain": [
       "(0.24041110916865743,\n",
       " 3,\n",
       " [0.24041110916865743,\n",
       "  0.05424885577697852,\n",
       "  0.10241593734737466,\n",
       "  0.0873441773598214])"
      ]
     },
     "execution_count": 8,
     "metadata": {},
     "output_type": "execute_result"
    }
   ],
   "source": [
    "import simulate_part_pr\n",
    "\n",
    "\n",
    "\n",
    "s = 'angular/angular.js\t8492\t8233'\n",
    "repo, n1, n2 = s.split()\n",
    "\n",
    "init_model_with_repo(repo)\n",
    "\n",
    "simulate_part_pr.simulate(repo, n1, n2)\n"
   ]
  },
  {
   "cell_type": "code",
   "execution_count": null,
   "metadata": {
    "scrolled": false
   },
   "outputs": [],
   "source": [
    "from git import *\n",
    "\n",
    "repos = open('data/msr_repo_list.txt').readlines()\n",
    "\n",
    "# repo = 'cocos2d/cocos2d-x'\n",
    "\n",
    "for repo in repos:\n",
    "\n",
    "    pulls = get_pull_list(repo, False)\n",
    "\n",
    "    num, tot = 0, 0\n",
    "    for pull in pulls:\n",
    "        tot += 1\n",
    "        if len(get_pr_numbers(str(pull['title']) + str(pull['body']))) > 0:\n",
    "            num += 1\n",
    "    print(repo.strip(), ':', 1.0 * num / tot)\n"
   ]
  },
  {
   "cell_type": "code",
   "execution_count": null,
   "metadata": {},
   "outputs": [],
   "source": [
    "from main import *\n",
    "\n",
    "# init_model_with_repo('Ultimaker/Ultimaker2Marlin')\n",
    "init_model_with_repo('MarlinFirmware/Marlin')\n",
    "get_sim_vector(get_pull('Ultimaker/Ultimaker2Marlin', '50'), get_pull('MarlinFirmware/Marlin', '1402'))"
   ]
  },
  {
   "cell_type": "code",
   "execution_count": null,
   "metadata": {},
   "outputs": [],
   "source": [
    "from main import *\n",
    "\n",
    "# init_model_with_repo('ceph/ceph')\n",
    "\n",
    "p1 = get_pull('hashicorp/terraform', '6827')\n",
    "t = get_another_pull(p1)\n",
    "print(type(t[0]))\n",
    "print(get_another_pull(p1))\n",
    "\n",
    "print(type(p1[\"number\"]))\n",
    "'''\n",
    "p2 = get_pull('ceph/ceph', '10427')\n",
    "print(get_BoW(p1[\"title\"]))\n",
    "print(get_BoW(p2[\"title\"]))\n",
    "\n",
    "print(get_sim('ceph/ceph', '10438', '10427'))\n",
    "\n",
    "print(check_pattern(p1, p2))\n",
    "'''"
   ]
  },
  {
   "cell_type": "code",
   "execution_count": null,
   "metadata": {},
   "outputs": [],
   "source": [
    "from main import *\n",
    "\n",
    "# init_model_with_repo('Ultimaker/Ultimaker2Marlin')\n",
    "init_model_with_repo('MarlinFirmware/Marlin')\n",
    "get_sim_vector(get_pull('Ultimaker/Ultimaker2Marlin', '50'), get_pull('MarlinFirmware/Marlin', '1402'))"
   ]
  },
  {
   "cell_type": "code",
   "execution_count": null,
   "metadata": {},
   "outputs": [],
   "source": [
    "from main import *\n",
    "\n",
    "# init_model_with_repo('Ultimaker/Ultimaker2Marlin')\n",
    "init_model_with_repo('MarlinFirmware/Marlin')\n",
    "get_pr_sim_vector(get_pull('Ultimaker/Ultimaker2Marlin', '50'), get_pull('MarlinFirmware/Marlin', '1402'))"
   ]
  },
  {
   "cell_type": "code",
   "execution_count": null,
   "metadata": {},
   "outputs": [],
   "source": [
    "import main\n",
    "# main.init_model_with_repo('facebook/react')\n",
    "# main.get_sim('facebook/react', '12767', '11770')\n",
    "\n",
    "main.init_model_with_repo('facebook/react')\n",
    "main.get_sim('facebook/react', '466', '433')\n",
    "\n"
   ]
  },
  {
   "cell_type": "code",
   "execution_count": null,
   "metadata": {},
   "outputs": [],
   "source": [
    "import main\n",
    "main.init_model_with_repo('facebook/react')\n",
    "main.get_sim('facebook/react', '12767', '11770')\n",
    "\n"
   ]
  },
  {
   "cell_type": "code",
   "execution_count": null,
   "metadata": {},
   "outputs": [],
   "source": [
    "import main\n",
    "import git\n",
    "\n",
    "%time main.init_model_with_pulls(git.get_pull_list('MarlinFirmware/Marlin'))\n",
    "\n",
    "'''\n",
    "import main\n",
    "main.init_model_with_repo('SignalR/SignalR')\n",
    "main.get_sim('SignalR/SignalR', '3094', '3862')\n",
    "'''"
   ]
  },
  {
   "cell_type": "code",
   "execution_count": null,
   "metadata": {},
   "outputs": [],
   "source": [
    "import re\n",
    "def camel_case_split(identifier):\n",
    "    matches = re.finditer('.+?(?:(?<=[a-z])(?=[A-Z])|(?<=[A-Z])(?=[A-Z][a-z])|$)', identifier)\n",
    "    return [m.group(0) for m in matches]\n",
    "\n",
    "print(camel_case_split('AasAdsaB'))\n",
    "print(camel_case_split('dasAdsaBcdas'))\n",
    "print(camel_case_split('ARM64'))\n",
    "\n",
    "print(camel_case_split('321jca+dsad321_dsaAz'))"
   ]
  },
  {
   "cell_type": "code",
   "execution_count": null,
   "metadata": {},
   "outputs": [],
   "source": [
    "import main\n",
    "c = main.classify() # all\n",
    "\n",
    "\"\"\"\n",
    "with open('tmp/1.txt') as f:\n",
    "    for l in f.readlines():\n",
    "        if len(l)<=3:\n",
    "            continue\n",
    "        p, n1, n2 = l.split()\n",
    "        \n",
    "        t = main.get_sim(p, n1, n2)\n",
    "        \n",
    "        print(c.predict([t])[0], p, n1, n2, t)\n",
    "\"\"\"\n",
    "\n",
    "with open('')\n",
    "X_test = localfile_tool.get_file('data/improve_false_data_msr_positive_pairs_lsi_X.json')\n",
    "y_test = localfile_tool.get_file('data/improve_false_data_msr_positive_pairs_lsi_y.json')\n",
    "\n",
    "acc = c.score(X_test, y_test)\n",
    "print('Mean Accuracy:', acc)\n",
    "\n",
    "# c.predict()\n"
   ]
  },
  {
   "cell_type": "code",
   "execution_count": null,
   "metadata": {},
   "outputs": [],
   "source": [
    "import main\n",
    "main.get_sim('mozilla-b2g/gaia', '2420', '2459')"
   ]
  },
  {
   "cell_type": "code",
   "execution_count": null,
   "metadata": {},
   "outputs": [],
   "source": [
    "import main\n",
    "p = main.get_pull('mozilla-b2g/gaia', '2420')\n",
    "f = fetch_pr_info(p)\n",
    "print([x[\"name\"] for x in f])\n"
   ]
  },
  {
   "cell_type": "code",
   "execution_count": null,
   "metadata": {},
   "outputs": [],
   "source": [
    "from main import *\n",
    "from git import *\n",
    "from comparer import *\n",
    "\n",
    "repo = 'spring-projects/spring-framework'\n",
    "init_model_with_pulls([], repo.replace('/','_') + '_all')\n",
    "# init_model_with_repo(repo)\n",
    "\n",
    "x = 'Changed min accepted day of month to 1'\n",
    "y = 'Support for the last day in month cron expression'\n",
    "\n",
    "'''\n",
    "x = 'Tokenizer - removing unnecessary boxing'\n",
    "y = 'Tokenizer - removes unnecessary boxing of char'\n",
    "'''\n",
    "\n",
    "%timeit text_sim(x,y)\n",
    "# text_sim(x,y)\n",
    "'''\n",
    "print(model.get_tfidf(get_BoW(x)))\n",
    "print(model.get_tfidf(get_BoW(y)))\n",
    "c = set(get_BoW(x)) & set(get_BoW(y))\n",
    "print(model.get_idf_sum(c))\n",
    "'''"
   ]
  },
  {
   "cell_type": "code",
   "execution_count": null,
   "metadata": {},
   "outputs": [],
   "source": [
    "from git import *\n",
    "\n",
    "with open('data/msr_positive_pairs.txt') as f:\n",
    "    for t in f.readlines():\n",
    "        r, n1, n2 = t.split()\n",
    "        p1 = get_pull(r, n1)\n",
    "        p2 = get_pull(r, n2)\n",
    "        t = set(p1['title'].split()) & set(p2['title'].split())\n",
    "        if t:\n",
    "            print(t)\n",
    "        "
   ]
  },
  {
   "cell_type": "code",
   "execution_count": 3,
   "metadata": {},
   "outputs": [
    {
     "name": "stdout",
     "output_type": "stream",
     "text": [
      "0.9071270858731213 0.9177136357643809\n",
      "0.9468352087136923 1.0\n",
      "0.9313933902879004 0.0\n",
      "0.9809518760551905 0.9890356197201502\n",
      "0.9030707927543703 0.9013574968785135\n",
      "1.0 0.40707982034270224\n",
      "0.9749549405228825 0.0\n",
      "0.9346451026224672 0.9999999999999998\n",
      "0.921276291562085 0.9999999999999999\n",
      "0.9172993222982763 1.0\n",
      "0.9203879243799293 1.0\n",
      "0.9616760837178023 1.0000000000000002\n",
      "0.9152351114244578 1.0\n",
      "0.95168253569874 1.0000000000000002\n",
      "1.0000000000000002 0.8816629246450854\n",
      "0.9999999999999999 1.0\n",
      "1.0 0.9999999999999998\n",
      "0.9999999999999999 0.9548585820711418\n",
      "1.0 0.0\n",
      "0.9999999999999999 0.976360120851565\n",
      "0.9941140166648128 0.0\n",
      "0.9062072481555973 0.0\n",
      "0.9162572105956425 1.0000000000000002\n",
      "0.9369282499647229 0.9834549720265431\n",
      "0.9400476946689346 0.0\n",
      "0.9813901271184252 0.9999999999999998\n",
      "1.0 1.0\n",
      "1.0 0.9026897393909924\n",
      "1.0 1.0\n",
      "0.9946801499037237 0.8153062680839283\n",
      "1.0000000000000002 0.0\n",
      "0.9999999999999999 0.9905008677370757\n",
      "0.92187162564858 1.0\n",
      "0.9735615248833233 0.9094190107028148\n",
      "0.9615269853600159 0.904508940061155\n",
      "1.0 0.8852321822998791\n",
      "0.9999999999999999 0.8325034216273128\n",
      "0.9999999999999999 0.9297675871511877\n",
      "1.0 0.8888888888888888\n",
      "1.0 0.0\n",
      "0.9116805455433957 0.0\n",
      "0.9220258826452847 0.0\n",
      "1.0 0.0\n",
      "0.9054954697807023 0.9999999999999999\n",
      "0.9166521456542166 0.6956820388415733\n",
      "1.0 0.0\n",
      "0.9080562154370415 0.20573779994945587\n",
      "0.9141495009651517 0.0\n",
      "0.9782416517614555 0.0\n",
      "1.0 0.4193139346887673\n",
      "0.9499989175505972 0.0\n",
      "0.9317630993010643 0.0\n",
      "0.9430659891417877 0.5402906346186358\n",
      "0.9015478520119027 0.0\n",
      "0.907849167138292 0.3984879558012202\n",
      "0.9431811744772682 0.0\n",
      "1.0 0.0\n",
      "0.9999999999999999 0.9960935655536398\n",
      "1.0000000000000002 0.9999999999999998\n",
      "1.0000000000000002 0.0\n",
      "1.0000000000000002 0.0\n",
      "0.974232474164416 0.8518401210654247\n",
      "0.9829623592454648 0.9839831741350457\n",
      "1.0000000000000002 0.9999999999999998\n",
      "1.0 0.33216361242052084\n",
      "1.0000000000000002 0.7216878364870323\n",
      "1.0000000000000002 1.0\n",
      "0.9708897628882093 0.0\n",
      "0.9012086770514158 0.0\n",
      "0.955835597421728 0.0\n",
      "0.9999999999999999 0.0\n",
      "1.0 0.0\n",
      "1.0000000000000002 0.999776586234924\n",
      "0.9870076671483351 0.26937401188058957\n",
      "0.9581657795708473 0.0\n",
      "1.0 0.0\n",
      "1.0000000000000002 0.0\n",
      "0.9355833867121165 0.8322114849504074\n",
      "0.9540676744268028 0.9650896746237417\n",
      "0.9721898243323754 0.48674944437444995\n",
      "0.9446247467189393 0.0\n",
      "0.9911256852914743 0.8170641120309864\n",
      "0.9367727667415087 0.0\n",
      "0.9600051610980055 0.638087387324676\n",
      "0.9001936072054517 0.5173475250949959\n",
      "0.9218247481421143 0.09284766908852592\n",
      "0.9855120051482411 0.0\n",
      "0.9696706094038192 0.0\n",
      "0.9130618543335545 0.0\n",
      "0.9678839221752539 0.0\n",
      "1.0000000000000002 0.0\n",
      "1.0000000000000002 0.0\n",
      "0.9495504774348985 0.0\n",
      "0.9704426153357327 0.0\n",
      "1.0000000000000002 0.0\n",
      "1.0 0.0\n",
      "0.9415846292422725 0.857142857142857\n",
      "0.9145404334712874 0.0\n",
      "1.0 1.0\n",
      "0.9222592072236854 0.9972018709041055\n",
      "0.9226603436267136 0.0\n"
     ]
    }
   ],
   "source": [
    "from util import localfile\n",
    "ps = localfile.get_file('data/msr_positive_pairs_feature_vector_all_clues_with_text_lsi_code_bow_X.json')\n",
    "for p in ps:\n",
    "    if p[0] >= 0.9:\n",
    "        print(p[0], p[2])\n",
    "    "
   ]
  },
  {
   "cell_type": "code",
   "execution_count": null,
   "metadata": {},
   "outputs": [],
   "source": []
  }
 ],
 "metadata": {
  "kernelspec": {
   "display_name": "Python 3",
   "language": "python",
   "name": "python3"
  },
  "language_info": {
   "codemirror_mode": {
    "name": "ipython",
    "version": 3
   },
   "file_extension": ".py",
   "mimetype": "text/x-python",
   "name": "python",
   "nbconvert_exporter": "python",
   "pygments_lexer": "ipython3",
   "version": "3.6.5"
  }
 },
 "nbformat": 4,
 "nbformat_minor": 2
}
