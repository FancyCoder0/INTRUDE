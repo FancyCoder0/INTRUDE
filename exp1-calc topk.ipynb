{
 "cells": [
  {
   "cell_type": "code",
   "execution_count": 4,
   "metadata": {},
   "outputs": [
    {
     "name": "stdout",
     "output_type": "stream",
     "text": [
      "1149\n",
      "1 \t 0.4630\n",
      "2 \t 0.5640\n",
      "3 \t 0.6118\n",
      "4 \t 0.6466\n",
      "5 \t 0.6710\n",
      "6 \t 0.6919\n",
      "7 \t 0.7041\n",
      "8 \t 0.7119\n",
      "9 \t 0.7267\n",
      "10 \t 0.7354\n",
      "11 \t 0.7485\n",
      "12 \t 0.7537\n",
      "13 \t 0.7572\n",
      "14 \t 0.7624\n",
      "15 \t 0.7659\n",
      "16 \t 0.7702\n",
      "17 \t 0.7720\n",
      "18 \t 0.7728\n",
      "19 \t 0.7763\n",
      "20 \t 0.7798\n",
      "21 \t 0.7798\n",
      "22 \t 0.7842\n",
      "23 \t 0.7876\n",
      "24 \t 0.7946\n",
      "25 \t 0.7972\n",
      "26 \t 0.7990\n",
      "27 \t 0.8007\n",
      "28 \t 0.8033\n",
      "29 \t 0.8042\n",
      "30 \t 0.8059\n"
     ]
    }
   ],
   "source": [
    "#calc recall@k\n",
    "\n",
    "import os\n",
    "way = 'new'\n",
    "file = 'detection/result_on_topk_%s_tmp.txt' % way\n",
    "\n",
    "file = 'detection/result_on_topk_new_pok.txt'\n",
    "#file = 'detection/result_on_topk_pre_ok.txt'\n",
    "\n",
    "cnt_num = 0\n",
    "top_acc = [0 for i in range(30)]\n",
    "\n",
    "last_run = {}\n",
    "if os.path.exists(file):\n",
    "    with open(file) as f:\n",
    "        for t in f.readlines():\n",
    "            ps = t.replace(',','').replace('[','').replace(']','').split()\n",
    "                        \n",
    "            r, n1, n2 = ps[0], ps[1], ps[2]\n",
    "            li = [int(x) for x in ps[3:]]\n",
    "            \n",
    "            cnt_num += 1\n",
    "            for i in range(30):\n",
    "                if int(n1) in li[:i+1]:\n",
    "                    top_acc[i] += 1\n",
    "            \n",
    "            # print('now=', r, cnt_num, 'top1 acc =', 1.0 * top_acc[0] / cnt_num)\n",
    "\n",
    "\n",
    "print(cnt_num)\n",
    "for i in range(30):\n",
    "    t = 1.0 * top_acc[i] / cnt_num\n",
    "    top_acc[i] = t\n",
    "    print('%d \\t %.4f' % (i+1, t))\n"
   ]
  },
  {
   "cell_type": "code",
   "execution_count": 23,
   "metadata": {
    "scrolled": false
   },
   "outputs": [
    {
     "ename": "KeyboardInterrupt",
     "evalue": "",
     "output_type": "error",
     "traceback": [
      "\u001b[0;31m---------------------------------------------------------------------------\u001b[0m",
      "\u001b[0;31mKeyboardInterrupt\u001b[0m                         Traceback (most recent call last)",
      "\u001b[0;32m<ipython-input-23-575e9e5733bb>\u001b[0m in \u001b[0;36m<module>\u001b[0;34m()\u001b[0m\n\u001b[1;32m      7\u001b[0m     \u001b[0;32mfor\u001b[0m \u001b[0mn\u001b[0m \u001b[0;32min\u001b[0m \u001b[0mf\u001b[0m\u001b[0;34m.\u001b[0m\u001b[0mreadlines\u001b[0m\u001b[0;34m(\u001b[0m\u001b[0;34m)\u001b[0m\u001b[0;34m:\u001b[0m\u001b[0;34m\u001b[0m\u001b[0m\n\u001b[1;32m      8\u001b[0m         \u001b[0mp\u001b[0m \u001b[0;34m=\u001b[0m \u001b[0mget_pull\u001b[0m\u001b[0;34m(\u001b[0m\u001b[0mr\u001b[0m\u001b[0;34m,\u001b[0m \u001b[0mn\u001b[0m\u001b[0;34m.\u001b[0m\u001b[0mstrip\u001b[0m\u001b[0;34m(\u001b[0m\u001b[0;34m)\u001b[0m\u001b[0;34m)\u001b[0m\u001b[0;34m\u001b[0m\u001b[0m\n\u001b[0;32m----> 9\u001b[0;31m         \u001b[0;32mif\u001b[0m \u001b[0;32mnot\u001b[0m \u001b[0mcheck_large\u001b[0m\u001b[0;34m(\u001b[0m\u001b[0mp\u001b[0m\u001b[0;34m)\u001b[0m\u001b[0;34m:\u001b[0m\u001b[0;34m\u001b[0m\u001b[0m\n\u001b[0m\u001b[1;32m     10\u001b[0m             \u001b[0mprint\u001b[0m\u001b[0;34m(\u001b[0m\u001b[0mn\u001b[0m\u001b[0;34m.\u001b[0m\u001b[0mstrip\u001b[0m\u001b[0;34m(\u001b[0m\u001b[0;34m)\u001b[0m\u001b[0;34m,\u001b[0m \u001b[0mfile\u001b[0m\u001b[0;34m=\u001b[0m\u001b[0mt\u001b[0m\u001b[0;34m)\u001b[0m\u001b[0;34m\u001b[0m\u001b[0m\n\u001b[1;32m     11\u001b[0m \u001b[0mt\u001b[0m\u001b[0;34m.\u001b[0m\u001b[0mclose\u001b[0m\u001b[0;34m(\u001b[0m\u001b[0;34m)\u001b[0m\u001b[0;34m\u001b[0m\u001b[0m\n",
      "\u001b[0;32m~/PR_get/INTRUDE/git.py\u001b[0m in \u001b[0;36mcheck_large\u001b[0;34m(pull)\u001b[0m\n\u001b[1;32m    105\u001b[0m \u001b[0;34m\u001b[0m\u001b[0m\n\u001b[1;32m    106\u001b[0m     \u001b[0mpath\u001b[0m \u001b[0;34m=\u001b[0m \u001b[0;34m'/DATA/luyao/pr_data/%s/%s/raw_diff.json'\u001b[0m \u001b[0;34m%\u001b[0m \u001b[0;34m(\u001b[0m\u001b[0mpull\u001b[0m\u001b[0;34m[\u001b[0m\u001b[0;34m\"base\"\u001b[0m\u001b[0;34m]\u001b[0m\u001b[0;34m[\u001b[0m\u001b[0;34m\"repo\"\u001b[0m\u001b[0;34m]\u001b[0m\u001b[0;34m[\u001b[0m\u001b[0;34m\"full_name\"\u001b[0m\u001b[0;34m]\u001b[0m\u001b[0;34m,\u001b[0m \u001b[0mpull\u001b[0m\u001b[0;34m[\u001b[0m\u001b[0;34m\"number\"\u001b[0m\u001b[0;34m]\u001b[0m\u001b[0;34m)\u001b[0m\u001b[0;34m\u001b[0m\u001b[0m\n\u001b[0;32m--> 107\u001b[0;31m     \u001b[0;32mif\u001b[0m \u001b[0mos\u001b[0m\u001b[0;34m.\u001b[0m\u001b[0mpath\u001b[0m\u001b[0;34m.\u001b[0m\u001b[0mgetsize\u001b[0m\u001b[0;34m(\u001b[0m\u001b[0mpath\u001b[0m\u001b[0;34m)\u001b[0m \u001b[0;34m>=\u001b[0m \u001b[0;36m50\u001b[0m \u001b[0;34m*\u001b[0m \u001b[0;36m1024\u001b[0m\u001b[0;34m:\u001b[0m\u001b[0;34m\u001b[0m\u001b[0m\n\u001b[0m\u001b[1;32m    108\u001b[0m         \u001b[0;32mreturn\u001b[0m \u001b[0;32mTrue\u001b[0m\u001b[0;34m\u001b[0m\u001b[0m\n\u001b[1;32m    109\u001b[0m \u001b[0;34m\u001b[0m\u001b[0m\n",
      "\u001b[0;32m~/anaconda3/envs/p3/lib/python3.6/genericpath.py\u001b[0m in \u001b[0;36mgetsize\u001b[0;34m(filename)\u001b[0m\n\u001b[1;32m     48\u001b[0m \u001b[0;32mdef\u001b[0m \u001b[0mgetsize\u001b[0m\u001b[0;34m(\u001b[0m\u001b[0mfilename\u001b[0m\u001b[0;34m)\u001b[0m\u001b[0;34m:\u001b[0m\u001b[0;34m\u001b[0m\u001b[0m\n\u001b[1;32m     49\u001b[0m     \u001b[0;34m\"\"\"Return the size of a file, reported by os.stat().\"\"\"\u001b[0m\u001b[0;34m\u001b[0m\u001b[0m\n\u001b[0;32m---> 50\u001b[0;31m     \u001b[0;32mreturn\u001b[0m \u001b[0mos\u001b[0m\u001b[0;34m.\u001b[0m\u001b[0mstat\u001b[0m\u001b[0;34m(\u001b[0m\u001b[0mfilename\u001b[0m\u001b[0;34m)\u001b[0m\u001b[0;34m.\u001b[0m\u001b[0mst_size\u001b[0m\u001b[0;34m\u001b[0m\u001b[0m\n\u001b[0m\u001b[1;32m     51\u001b[0m \u001b[0;34m\u001b[0m\u001b[0m\n\u001b[1;32m     52\u001b[0m \u001b[0;34m\u001b[0m\u001b[0m\n",
      "\u001b[0;31mKeyboardInterrupt\u001b[0m: "
     ]
    }
   ],
   "source": [
    "\n",
    "from git import *\n",
    "\n",
    "r = 'elastic/elasticsearch'\n",
    "t = open('ok.txt', 'w')\n",
    "with open('evaluation/%s_select.txt' % r.replace('/', '_')) as f:\n",
    "    for n in f.readlines():\n",
    "        p = get_pull(r, n.strip())\n",
    "        if not check_large(p):\n",
    "            print(n.strip(), file=t)\n",
    "t.close()"
   ]
  },
  {
   "cell_type": "code",
   "execution_count": null,
   "metadata": {},
   "outputs": [],
   "source": [
    "from git import *\n",
    "from comp import *\n",
    "\n",
    "def cp(p1, p2):\n",
    "    if set(p2['title'].split()) & set(p1['title'].split()):\n",
    "        return True\n",
    "    \n",
    "    if set([x['name'] for x in fetch_pr_info(p1)]) & set([x['name'] for x in fetch_pr_info(p2)]):\n",
    "        return True\n",
    "    \n",
    "    if check_pattern(p1, p2) == 1:\n",
    "        return True\n",
    "\n",
    "    return False\n",
    "\n",
    "r = 'laravel/framework'\n",
    "\n",
    "pulls = get_repo_info(r, 'pull')\n",
    "\n",
    "p = get_pull(r, '22057')\n",
    "\n",
    "num, tot = 0, 0\n",
    "for p2 in pulls:\n",
    "    tot += 1\n",
    "    if cp(p, p2):\n",
    "        num += 1\n",
    "    if tot % 100 == 0:\n",
    "        print(1.0 * num / tot)\n",
    "\n",
    "print(1.0 * num / len(pulls))"
   ]
  },
  {
   "cell_type": "code",
   "execution_count": null,
   "metadata": {},
   "outputs": [],
   "source": [
    "from git import *\n",
    "from comp import *\n",
    "\n",
    "def cp(p1, p2):\n",
    "    if set(p2['title'].split()) & set(p1['title'].split()):\n",
    "        return True\n",
    "    \n",
    "    if set([x['name'] for x in fetch_pr_info(p1)]) & set([x['name'] for x in fetch_pr_info(p2)]):\n",
    "        return True\n",
    "    \n",
    "    if check_pattern(p1, p2) == 1:\n",
    "        return True\n",
    "\n",
    "    return False\n",
    "    \n",
    "num, tot = 0, 0\n",
    "file = 'data/clf/msr_positive_pairs.txt'\n",
    "with open(file) as f:\n",
    "    for t in f.readlines():\n",
    "        r, n1, n2 = t.split()\n",
    "        p1 = get_pull(r, n1)\n",
    "        p2 = get_pull(r, n2)\n",
    "        \n",
    "        tot += 1\n",
    "        if cp(p1, p2):\n",
    "            num += 1\n",
    "        else:\n",
    "            print(r, n1, n2)\n",
    "        \n",
    "        if tot % 100 == 0:\n",
    "            print(1.0 * num / tot)\n",
    "\n",
    "print(1.0 * num / tot)"
   ]
  },
  {
   "cell_type": "code",
   "execution_count": null,
   "metadata": {},
   "outputs": [],
   "source": [
    "from git import *\n",
    "\n",
    "r = 'laravel/framework'\n",
    "\n",
    "pulls = get_repo_info(r, 'pull')\n",
    "\n",
    "def f():\n",
    "    cnt = 0\n",
    "    for p in pulls:\n",
    "        t = fetch_pr_info(p)\n",
    "        cnt += 1\n",
    "        if cnt == 100:\n",
    "            break\n",
    "\n",
    "%timeit f()"
   ]
  },
  {
   "cell_type": "code",
   "execution_count": null,
   "metadata": {},
   "outputs": [],
   "source": [
    "from clf import *\n",
    "from util import localfile\n",
    "\n",
    "c = classify()\n",
    "\n",
    "# file = 'data/clf/second_msr_pairs_feature_vector_ok_text_lsi_code_tfidf_ori_and_overlap_X.json'\n",
    "file = 'data/clf/second_nondup_feature_vector_ok_text_lsi_code_tfidf_ori_and_overlap_X.json'\n",
    "\n",
    "ys = localfile.get_file(file)\n",
    "rets = c.predict_proba(ys)\n",
    "\n",
    "tot = len(rets)\n",
    "num = len(list(filter(lambda x: x[1] >= 0.45, rets)))\n",
    "\n",
    "print(1.0 * num / tot)\n"
   ]
  },
  {
   "cell_type": "code",
   "execution_count": null,
   "metadata": {},
   "outputs": [],
   "source": []
  },
  {
   "cell_type": "code",
   "execution_count": null,
   "metadata": {
    "scrolled": true
   },
   "outputs": [],
   "source": [
    "      "
   ]
  }
 ],
 "metadata": {
  "kernelspec": {
   "display_name": "Python 3",
   "language": "python",
   "name": "python3"
  },
  "language_info": {
   "codemirror_mode": {
    "name": "ipython",
    "version": 3
   },
   "file_extension": ".py",
   "mimetype": "text/x-python",
   "name": "python",
   "nbconvert_exporter": "python",
   "pygments_lexer": "ipython3",
   "version": "3.6.5"
  }
 },
 "nbformat": 4,
 "nbformat_minor": 2
}
