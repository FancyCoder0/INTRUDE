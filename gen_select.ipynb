{
 "cells": [
  {
   "cell_type": "code",
   "execution_count": null,
   "metadata": {},
   "outputs": [],
   "source": [
    "import sys\n",
    "sys.path.append('/home/luyao/PR_get/INTRUDE')\n",
    "\n",
    "import os\n",
    "from git import *\n",
    "from sklearn.utils import shuffle\n",
    "\n",
    "repo = 'tensorflow/tensorflow'\n",
    "file = 'evaluation/' + repo.replace('/', '_') + '_select.txt'\n",
    "\n",
    "if os.path.exists(file):\n",
    "    raise Exception('file already exists!')\n",
    "\n",
    "pulls = get_repo_info(repo, 'pull')\n",
    "\n",
    "ps = shuffle(pulls)\n",
    "\n",
    "cnt = 0\n",
    "with open(file, 'w') as f:\n",
    "    for p in ps:\n",
    "        if not check_large(p):\n",
    "            cnt += 1\n",
    "            print(p['number'], file=f)\n",
    "            \n",
    "            if cnt == 200:\n",
    "                break\n",
    "\n",
    " "
   ]
  }
 ],
 "metadata": {
  "kernelspec": {
   "display_name": "Python 3",
   "language": "python",
   "name": "python3"
  },
  "language_info": {
   "codemirror_mode": {
    "name": "ipython",
    "version": 3
   },
   "file_extension": ".py",
   "mimetype": "text/x-python",
   "name": "python",
   "nbconvert_exporter": "python",
   "pygments_lexer": "ipython3",
   "version": "3.6.5"
  }
 },
 "nbformat": 4,
 "nbformat_minor": 2
}
