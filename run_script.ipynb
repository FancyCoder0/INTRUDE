{
 "cells": [
  {
   "cell_type": "code",
   "execution_count": null,
   "metadata": {
    "scrolled": false
   },
   "outputs": [],
   "source": [
    "from gen import *\n",
    "\n",
    "with open('data/small_part_negative.txt', 'w+') as f:\n",
    "    for i in range(1800):\n",
    "        if i % 100 == 0:\n",
    "            print(i)\n",
    "        print(' '.join(random_pairs()), file=f)\n"
   ]
  },
  {
   "cell_type": "code",
   "execution_count": null,
   "metadata": {
    "scrolled": true
   },
   "outputs": [],
   "source": [
    "o = open('tmp/bow2.txt', 'w')\n",
    "\n",
    "a = {}\n",
    "\n",
    "from main import *\n",
    "with open('data/msr_positive_pairs.txt') as f:\n",
    "    for t in f.readlines():\n",
    "        r, n1, n2 = t.split()\n",
    "        p1 = get_pull(r, n1)\n",
    "        p2 = get_pull(r, n2)\n",
    "        b1 = get_BoW(p1[\"title\"])\n",
    "        b2 = get_BoW(p2[\"title\"])\n",
    "        #b1 = list(set(b1))\n",
    "        #b2 = list(set(b2))\n",
    "        z = set(b1) & set(b2)\n",
    "        for t in z:\n",
    "            if t not in a:\n",
    "                a[t] = 0\n",
    "            a[t] += 1\n",
    "        \n",
    "        z = list(filter(lambda x: len(x) >= 2, list(z)))\n",
    "        print(z, file=o)\n",
    "        # print(len(set(b1) & set(b2)), 1, file=o)\n",
    "        #print(set_similarity(b1, b2), 2, file=o)\n",
    "\n",
    "'''\n",
    "t = sorted(a.items(), key=lambda x: x[1], reverse=True)\n",
    "for x in t:\n",
    "    if len(x[0]) >= 2:\n",
    "        print(x)\n",
    "'''"
   ]
  },
  {
   "cell_type": "code",
   "execution_count": null,
   "metadata": {},
   "outputs": [],
   "source": [
    "# filter msr\n",
    "g = open('data/small_part_msr.txt', 'w+')\n",
    "with open('data/msr_positive_pairs.txt') as f:\n",
    "    for l in f.readlines():\n",
    "        r, n1, n2 = l.split()\n",
    "        # if r in ['scikit-learn/scikit-learn', 'nodejs/node', 'dotnet/corefx']:\n",
    "        if r in ['angular/angular.js', 'mozilla-b2g/gaia', 'kubernetes/kubernetes']:\n",
    "            print(r, n1, n2, file=g)\n",
    "g.close()"
   ]
  },
  {
   "cell_type": "code",
   "execution_count": null,
   "metadata": {
    "scrolled": false
   },
   "outputs": [],
   "source": [
    "import os\n",
    "\n",
    "repos = os.listdir('/DATA/luyao/pr_data')\n",
    "\n",
    "li = []\n",
    "for repo in repos:\n",
    "    t = os.listdir('/DATA/luyao/pr_data/' + repo)\n",
    "    for v in t:\n",
    "        li.append(repo + '/' + v)\n",
    "\n",
    "# print('\\n'.join(li))\n",
    "\n",
    "for t in li:\n",
    "    t = t.strip()    \n",
    "    pr = os.listdir('/DATA/luyao/pr_data/%s' % t)\n",
    "    print(t, len(pr))       \n",
    "\n",
    "'''\n",
    "with open('data/msr_repo_list.txt') as f:\n",
    "    for t in f.readlines():\n",
    "        t = t.strip()    \n",
    "        pr = os.listdir('/DATA/luyao/pr_data/%s' % t)\n",
    "        print(t, len(pr))\n",
    "'''"
   ]
  },
  {
   "cell_type": "code",
   "execution_count": null,
   "metadata": {},
   "outputs": [],
   "source": [
    "from main import *\n",
    "num = 0\n",
    "with open('data/msr_positive_pairs.txt') as f:\n",
    "    for l in f.readlines():\n",
    "        r, n1, n2 = l.split()\n",
    "        p1 = get_pull(r, n1)\n",
    "        p2 = get_pull(r, n2)\n",
    "        try:\n",
    "            if check_too_big(p1) or check_too_big(p2):\n",
    "                print(l.strip())\n",
    "                for p in [p1, p2]:\n",
    "                    print(p['additions'], p['deletions'], p['changed_files'], p['comments'])\n",
    "                print('---------')\n",
    "        except:\n",
    "            num += 1\n",
    "            pass\n",
    "print(num)"
   ]
  },
  {
   "cell_type": "code",
   "execution_count": null,
   "metadata": {},
   "outputs": [],
   "source": []
  }
 ],
 "metadata": {
  "kernelspec": {
   "display_name": "Python 3",
   "language": "python",
   "name": "python3"
  },
  "language_info": {
   "codemirror_mode": {
    "name": "ipython",
    "version": 3
   },
   "file_extension": ".py",
   "mimetype": "text/x-python",
   "name": "python",
   "nbconvert_exporter": "python",
   "pygments_lexer": "ipython3",
   "version": "3.6.5"
  }
 },
 "nbformat": 4,
 "nbformat_minor": 2
}
