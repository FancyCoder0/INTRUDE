{
 "cells": [
  {
   "cell_type": "code",
   "execution_count": 8,
   "metadata": {},
   "outputs": [
    {
     "name": "stdout",
     "output_type": "stream",
     "text": [
      "223\n",
      "top1 acc \t 0.2377\n",
      "top2 acc \t 0.3408\n",
      "top3 acc \t 0.3812\n",
      "top4 acc \t 0.3946\n",
      "top5 acc \t 0.4305\n",
      "top6 acc \t 0.4574\n",
      "top7 acc \t 0.4753\n",
      "top8 acc \t 0.4888\n",
      "top9 acc \t 0.4933\n",
      "top10 acc \t 0.5022\n",
      "top11 acc \t 0.5112\n",
      "top12 acc \t 0.5291\n",
      "top13 acc \t 0.5336\n",
      "top14 acc \t 0.5381\n",
      "top15 acc \t 0.5426\n",
      "top16 acc \t 0.5471\n",
      "top17 acc \t 0.5561\n",
      "top18 acc \t 0.5695\n",
      "top19 acc \t 0.5785\n",
      "top20 acc \t 0.5919\n"
     ]
    }
   ],
   "source": [
    "import os\n",
    "way = 'pre'\n",
    "file = 'detection/result_on_topk_%s_tmp.txt' % way\n",
    "\n",
    "cnt_num = 0\n",
    "top_acc = [0 for i in range(30)]\n",
    "\n",
    "last_run = {}\n",
    "if os.path.exists(file):\n",
    "    with open(file) as f:\n",
    "        for t in f.readlines():\n",
    "            ps = t.replace(',','').replace('[','').replace(']','').split()\n",
    "            \n",
    "            \n",
    "            r, n1, n2 = ps[0], ps[1], ps[2]\n",
    "            li = [int(x) for x in ps[3:]]\n",
    "            \n",
    "            '''\n",
    "            if r != 'angular/angular.js':\n",
    "            # if r != 'rails/rails':\n",
    "            # if r != 'elastic/elasticsearch':\n",
    "                continue\n",
    "            '''\n",
    "            \n",
    "            cnt_num += 1\n",
    "            for i in range(30):\n",
    "                if int(n1) in li[:i+1]:\n",
    "                    top_acc[i] += 1\n",
    "            \n",
    "            # print('now=', r, cnt_num, 'top1 acc =', 1.0 * top_acc[0] / cnt_num)\n",
    "            \n",
    "            if cnt_num == 223:\n",
    "                break\n",
    "            '''\n",
    "            if (r, n1, n2) == ('angular/angular.js', '5746', '9827'):\n",
    "                break\n",
    "            '''\n",
    "\n",
    "print(cnt_num)\n",
    "for i in range(20):\n",
    "    t = 1.0 * top_acc[i] / cnt_num\n",
    "    top_acc[i] = t\n",
    "    print('top%d acc \\t %.4f' % (i+1, t))\n"
   ]
  },
  {
   "cell_type": "code",
   "execution_count": null,
   "metadata": {},
   "outputs": [],
   "source": []
  }
 ],
 "metadata": {
  "kernelspec": {
   "display_name": "Python 3",
   "language": "python",
   "name": "python3"
  },
  "language_info": {
   "codemirror_mode": {
    "name": "ipython",
    "version": 3
   },
   "file_extension": ".py",
   "mimetype": "text/x-python",
   "name": "python",
   "nbconvert_exporter": "python",
   "pygments_lexer": "ipython3",
   "version": "3.6.5"
  }
 },
 "nbformat": 4,
 "nbformat_minor": 2
}
