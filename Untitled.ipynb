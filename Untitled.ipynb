{
 "cells": [
  {
   "cell_type": "code",
   "execution_count": 8,
   "metadata": {},
   "outputs": [
    {
     "name": "stdout",
     "output_type": "stream",
     "text": [
      "223\n",
      "top1 acc \t 0.2377\n",
      "top2 acc \t 0.3408\n",
      "top3 acc \t 0.3812\n",
      "top4 acc \t 0.3946\n",
      "top5 acc \t 0.4305\n",
      "top6 acc \t 0.4574\n",
      "top7 acc \t 0.4753\n",
      "top8 acc \t 0.4888\n",
      "top9 acc \t 0.4933\n",
      "top10 acc \t 0.5022\n",
      "top11 acc \t 0.5112\n",
      "top12 acc \t 0.5291\n",
      "top13 acc \t 0.5336\n",
      "top14 acc \t 0.5381\n",
      "top15 acc \t 0.5426\n",
      "top16 acc \t 0.5471\n",
      "top17 acc \t 0.5561\n",
      "top18 acc \t 0.5695\n",
      "top19 acc \t 0.5785\n",
      "top20 acc \t 0.5919\n"
     ]
    }
   ],
   "source": [
    "import os\n",
    "way = 'pre'\n",
    "file = 'detection/result_on_topk_%s_tmp.txt' % way\n",
    "\n",
    "cnt_num = 0\n",
    "top_acc = [0 for i in range(30)]\n",
    "\n",
    "last_run = {}\n",
    "if os.path.exists(file):\n",
    "    with open(file) as f:\n",
    "        for t in f.readlines():\n",
    "            ps = t.replace(',','').replace('[','').replace(']','').split()\n",
    "            \n",
    "            \n",
    "            r, n1, n2 = ps[0], ps[1], ps[2]\n",
    "            li = [int(x) for x in ps[3:]]\n",
    "            \n",
    "            '''\n",
    "            if r != 'angular/angular.js':\n",
    "            # if r != 'rails/rails':\n",
    "            # if r != 'elastic/elasticsearch':\n",
    "                continue\n",
    "            '''\n",
    "            \n",
    "            cnt_num += 1\n",
    "            for i in range(30):\n",
    "                if int(n1) in li[:i+1]:\n",
    "                    top_acc[i] += 1\n",
    "            \n",
    "            # print('now=', r, cnt_num, 'top1 acc =', 1.0 * top_acc[0] / cnt_num)\n",
    "            \n",
    "            if cnt_num == 223:\n",
    "                break\n",
    "            '''\n",
    "            if (r, n1, n2) == ('angular/angular.js', '5746', '9827'):\n",
    "                break\n",
    "            '''\n",
    "\n",
    "print(cnt_num)\n",
    "for i in range(20):\n",
    "    t = 1.0 * top_acc[i] / cnt_num\n",
    "    top_acc[i] = t\n",
    "    print('top%d acc \\t %.4f' % (i+1, t))\n"
   ]
  },
  {
   "cell_type": "code",
   "execution_count": 17,
   "metadata": {
    "scrolled": false
   },
   "outputs": [
    {
     "name": "stdout",
     "output_type": "stream",
     "text": [
      "17417\n",
      "5681\n",
      "5948\n"
     ]
    }
   ],
   "source": [
    "\n",
    "from git import *\n",
    "\n",
    "r = 'laravel/framework'\n",
    "with open('evaluation/%s_select.txt' % r.replace('/', '_')) as f:\n",
    "    for n in f.readlines():\n",
    "        p = get_pull(r, n.strip())\n",
    "        if check_large(p):\n",
    "            print(n.strip())\n"
   ]
  },
  {
   "cell_type": "code",
   "execution_count": 1,
   "metadata": {},
   "outputs": [
    {
     "name": "stdout",
     "output_type": "stream",
     "text": [
      "0.9011602610587383\n"
     ]
    }
   ],
   "source": [
    "from git import *\n",
    "from comp import *\n",
    "\n",
    "def cp(p1, p2):\n",
    "    if set(p2['title'].split()) & set(p1['title'].split()):\n",
    "        return True\n",
    "    \n",
    "    if set([x['name'] for x in fetch_pr_info(p1)]) & set([x['name'] for x in fetch_pr_info(p2)]):\n",
    "        return True\n",
    "    \n",
    "    if check_pattern(p1, p2) == 1:\n",
    "        return True\n",
    "\n",
    "    return False\n",
    "\n",
    "r = 'laravel/framework'\n",
    "\n",
    "pulls = get_repo_info(r, 'pull')\n",
    "\n",
    "p = get_pull(r, '22057')\n",
    "\n",
    "num = 0\n",
    "for p2 in pulls:\n",
    "    if set((str(p['title']) + str(p['body'])).split()) & set((str(p2['title']) + str(p2['body'])).split()):\n",
    "        num += 1\n",
    "\n",
    "print(1.0 * num / len(pulls))"
   ]
  },
  {
   "cell_type": "code",
   "execution_count": 30,
   "metadata": {},
   "outputs": [
    {
     "name": "stdout",
     "output_type": "stream",
     "text": [
      "angular/angular.js 9481 9478\n",
      "mozilla-b2g/gaia 2459 2420\n",
      "angular/angular.js 3699 3697\n",
      "ansible/ansible 15533 14368\n",
      "ansible/ansible 24798 23001\n",
      "ceph/ceph 8260 7289\n",
      "ceph/ceph 5208 5205\n",
      "ceph/ceph 10438 10427\n",
      "ceph/ceph 13378 13367\n",
      "ceph/ceph 9006 8853\n",
      "docker/docker 30290 29121\n",
      "docker/docker 32237 31744\n",
      "dotnet/corefx 3267 3264\n",
      "dotnet/corefx 10460 10450\n",
      "dotnet/corefx 419 406\n",
      "dotnet/corefx 16069 9537\n",
      "0.84\n",
      "elastic/elasticsearch 13643 8742\n",
      "elastic/elasticsearch 20545 20407\n",
      "emberjs/ember.js 11516 11509\n",
      "emberjs/ember.js 1070 1066\n",
      "joomla/joomla-cms 1140 1122\n",
      "joomla/joomla-cms 5293 3602\n",
      "finish write /DATA/luyao/pr_data/joomla/joomla-cms/3788/parse_diff.json to file....\n",
      "joomla/joomla-cms 7832 5368\n",
      "JuliaLang/julia 5706 5565\n",
      "JuliaLang/julia 13084 11547\n",
      "0.875\n"
     ]
    },
    {
     "ename": "KeyboardInterrupt",
     "evalue": "",
     "output_type": "error",
     "traceback": [
      "\u001b[0;31m---------------------------------------------------------------------------\u001b[0m",
      "\u001b[0;31mKeyboardInterrupt\u001b[0m                         Traceback (most recent call last)",
      "\u001b[0;32m<ipython-input-30-31a1b86a87b1>\u001b[0m in \u001b[0;36m<module>\u001b[0;34m()\u001b[0m\n\u001b[1;32m     20\u001b[0m         \u001b[0mr\u001b[0m\u001b[0;34m,\u001b[0m \u001b[0mn1\u001b[0m\u001b[0;34m,\u001b[0m \u001b[0mn2\u001b[0m \u001b[0;34m=\u001b[0m \u001b[0mt\u001b[0m\u001b[0;34m.\u001b[0m\u001b[0msplit\u001b[0m\u001b[0;34m(\u001b[0m\u001b[0;34m)\u001b[0m\u001b[0;34m\u001b[0m\u001b[0m\n\u001b[1;32m     21\u001b[0m         \u001b[0mp1\u001b[0m \u001b[0;34m=\u001b[0m \u001b[0mget_pull\u001b[0m\u001b[0;34m(\u001b[0m\u001b[0mr\u001b[0m\u001b[0;34m,\u001b[0m \u001b[0mn1\u001b[0m\u001b[0;34m)\u001b[0m\u001b[0;34m\u001b[0m\u001b[0m\n\u001b[0;32m---> 22\u001b[0;31m         \u001b[0mp2\u001b[0m \u001b[0;34m=\u001b[0m \u001b[0mget_pull\u001b[0m\u001b[0;34m(\u001b[0m\u001b[0mr\u001b[0m\u001b[0;34m,\u001b[0m \u001b[0mn2\u001b[0m\u001b[0;34m)\u001b[0m\u001b[0;34m\u001b[0m\u001b[0m\n\u001b[0m\u001b[1;32m     23\u001b[0m \u001b[0;34m\u001b[0m\u001b[0m\n\u001b[1;32m     24\u001b[0m         \u001b[0mtot\u001b[0m \u001b[0;34m+=\u001b[0m \u001b[0;36m1\u001b[0m\u001b[0;34m\u001b[0m\u001b[0m\n",
      "\u001b[0;32m~/PR_get/INTRUDE/git.py\u001b[0m in \u001b[0;36mget_pull\u001b[0;34m(repo, num, renew)\u001b[0m\n\u001b[1;32m    200\u001b[0m \u001b[0;32mdef\u001b[0m \u001b[0mget_pull\u001b[0m\u001b[0;34m(\u001b[0m\u001b[0mrepo\u001b[0m\u001b[0;34m,\u001b[0m \u001b[0mnum\u001b[0m\u001b[0;34m,\u001b[0m \u001b[0mrenew\u001b[0m\u001b[0;34m=\u001b[0m\u001b[0;32mFalse\u001b[0m\u001b[0;34m)\u001b[0m\u001b[0;34m:\u001b[0m\u001b[0;34m\u001b[0m\u001b[0m\n\u001b[1;32m    201\u001b[0m     \u001b[0msave_path\u001b[0m \u001b[0;34m=\u001b[0m \u001b[0mLOCAL_DATA_PATH\u001b[0m \u001b[0;34m+\u001b[0m \u001b[0;34m'/pr_data/%s/%s/api.json'\u001b[0m \u001b[0;34m%\u001b[0m \u001b[0;34m(\u001b[0m\u001b[0mrepo\u001b[0m\u001b[0;34m,\u001b[0m \u001b[0mnum\u001b[0m\u001b[0;34m)\u001b[0m\u001b[0;34m\u001b[0m\u001b[0m\n\u001b[0;32m--> 202\u001b[0;31m     \u001b[0;32mif\u001b[0m \u001b[0mos\u001b[0m\u001b[0;34m.\u001b[0m\u001b[0mpath\u001b[0m\u001b[0;34m.\u001b[0m\u001b[0mexists\u001b[0m\u001b[0;34m(\u001b[0m\u001b[0msave_path\u001b[0m\u001b[0;34m)\u001b[0m \u001b[0;32mand\u001b[0m \u001b[0;34m(\u001b[0m\u001b[0;32mnot\u001b[0m \u001b[0mrenew\u001b[0m\u001b[0;34m)\u001b[0m\u001b[0;34m:\u001b[0m\u001b[0;34m\u001b[0m\u001b[0m\n\u001b[0m\u001b[1;32m    203\u001b[0m         \u001b[0;32mtry\u001b[0m\u001b[0;34m:\u001b[0m\u001b[0;34m\u001b[0m\u001b[0m\n\u001b[1;32m    204\u001b[0m             \u001b[0;32mreturn\u001b[0m \u001b[0mlocalfile\u001b[0m\u001b[0;34m.\u001b[0m\u001b[0mget_file\u001b[0m\u001b[0;34m(\u001b[0m\u001b[0msave_path\u001b[0m\u001b[0;34m)\u001b[0m\u001b[0;34m\u001b[0m\u001b[0m\n",
      "\u001b[0;32m~/anaconda3/envs/p3/lib/python3.6/genericpath.py\u001b[0m in \u001b[0;36mexists\u001b[0;34m(path)\u001b[0m\n\u001b[1;32m     17\u001b[0m     \u001b[0;34m\"\"\"Test whether a path exists.  Returns False for broken symbolic links\"\"\"\u001b[0m\u001b[0;34m\u001b[0m\u001b[0m\n\u001b[1;32m     18\u001b[0m     \u001b[0;32mtry\u001b[0m\u001b[0;34m:\u001b[0m\u001b[0;34m\u001b[0m\u001b[0m\n\u001b[0;32m---> 19\u001b[0;31m         \u001b[0mos\u001b[0m\u001b[0;34m.\u001b[0m\u001b[0mstat\u001b[0m\u001b[0;34m(\u001b[0m\u001b[0mpath\u001b[0m\u001b[0;34m)\u001b[0m\u001b[0;34m\u001b[0m\u001b[0m\n\u001b[0m\u001b[1;32m     20\u001b[0m     \u001b[0;32mexcept\u001b[0m \u001b[0mOSError\u001b[0m\u001b[0;34m:\u001b[0m\u001b[0;34m\u001b[0m\u001b[0m\n\u001b[1;32m     21\u001b[0m         \u001b[0;32mreturn\u001b[0m \u001b[0;32mFalse\u001b[0m\u001b[0;34m\u001b[0m\u001b[0m\n",
      "\u001b[0;31mKeyboardInterrupt\u001b[0m: "
     ]
    }
   ],
   "source": [
    "from git import *\n",
    "from comp import *\n",
    "\n",
    "def cp(p1, p2):\n",
    "    if set(p2['title'].split()) & set(p1['title'].split()):\n",
    "        return True\n",
    "    \n",
    "    if set([x['name'] for x in fetch_pr_info(p1)]) & set([x['name'] for x in fetch_pr_info(p2)]):\n",
    "        return True\n",
    "    \n",
    "    if check_pattern(p1, p2) == 1:\n",
    "        return True\n",
    "\n",
    "    return False\n",
    "    \n",
    "num, tot = 0, 0\n",
    "file = 'data/clf/msr_positive_pairs.txt'\n",
    "with open(file) as f:\n",
    "    for t in f.readlines():\n",
    "        r, n1, n2 = t.split()\n",
    "        p1 = get_pull(r, n1)\n",
    "        p2 = get_pull(r, n2)\n",
    "        \n",
    "        tot += 1\n",
    "        if cp(p1, p2):\n",
    "            num += 1\n",
    "        else:\n",
    "            print(r, n1, n2)\n",
    "        \n",
    "        if tot % 100 == 0:\n",
    "            print(1.0 * num / tot)\n",
    "\n",
    "print(1.0 * num / tot)"
   ]
  },
  {
   "cell_type": "code",
   "execution_count": 3,
   "metadata": {},
   "outputs": [
    {
     "name": "stdout",
     "output_type": "stream",
     "text": [
      "73.9 ms ± 6.01 ms per loop (mean ± std. dev. of 7 runs, 10 loops each)\n"
     ]
    }
   ],
   "source": [
    "from git import *\n",
    "\n",
    "r = 'laravel/framework'\n",
    "\n",
    "pulls = get_repo_info(r, 'pull')\n",
    "\n",
    "def f():\n",
    "    cnt = 0\n",
    "    for p in pulls:\n",
    "        t = fetch_pr_info(p)\n",
    "        cnt += 1\n",
    "        if cnt == 100:\n",
    "            break\n",
    "\n",
    "%timeit f()"
   ]
  },
  {
   "cell_type": "code",
   "execution_count": null,
   "metadata": {},
   "outputs": [],
   "source": []
  }
 ],
 "metadata": {
  "kernelspec": {
   "display_name": "Python 3",
   "language": "python",
   "name": "python3"
  },
  "language_info": {
   "codemirror_mode": {
    "name": "ipython",
    "version": 3
   },
   "file_extension": ".py",
   "mimetype": "text/x-python",
   "name": "python",
   "nbconvert_exporter": "python",
   "pygments_lexer": "ipython3",
   "version": "3.6.5"
  }
 },
 "nbformat": 4,
 "nbformat_minor": 2
}
