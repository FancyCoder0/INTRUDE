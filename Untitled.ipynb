{
 "cells": [
  {
   "cell_type": "code",
   "execution_count": null,
   "metadata": {},
   "outputs": [],
   "source": [
    "import sys\n",
    "sys.path.append('/home/luyao/PR_get/INTRUDE')\n",
    "\n",
    "from git import *\n",
    "\n",
    "r = 'JuliaLang/julia'\n",
    "pulls = get_repo_info(r, 'pull')\n",
    "\n",
    "for p in pulls:\n",
    "    if len(get_another_pull(p)) > 0:\n",
    "        print(p[\"number\"])\n"
   ]
  },
  {
   "cell_type": "code",
   "execution_count": null,
   "metadata": {},
   "outputs": [],
   "source": [
    "import sys\n",
    "sys.path.append('/home/luyao/PR_get/INTRUDE')\n",
    "\n",
    "from git import *\n",
    "from clf import *\n",
    "\n",
    "c = classify()\n",
    "\n",
    "r = 'JuliaLang/julia'\n",
    "\n",
    "init_model_with_repo(r)\n",
    "\n",
    "pulls = get_repo_info(r, 'pull')\n",
    "\n",
    "nums = set([str(p[\"number\"]) for p in pulls])\n",
    "\n",
    "for p in pulls:\n",
    "    pn = p[\"number\"]\n",
    "    for x in get_another_pull(p):\n",
    "        if x in nums:\n",
    "            v = c.predict_proba([get_sim(r, x, pn)])[0][1]\n",
    "            if v >= 0.6:\n",
    "                print(max(int(pn), int(x)))"
   ]
  }
 ],
 "metadata": {
  "kernelspec": {
   "display_name": "Python 3",
   "language": "python",
   "name": "python3"
  },
  "language_info": {
   "codemirror_mode": {
    "name": "ipython",
    "version": 3
   },
   "file_extension": ".py",
   "mimetype": "text/x-python",
   "name": "python",
   "nbconvert_exporter": "python",
   "pygments_lexer": "ipython3",
   "version": "3.6.5"
  }
 },
 "nbformat": 4,
 "nbformat_minor": 2
}
