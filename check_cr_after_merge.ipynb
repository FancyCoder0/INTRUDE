{
 "cells": [
  {
   "cell_type": "code",
   "execution_count": 2,
   "metadata": {},
   "outputs": [
    {
     "name": "stdout",
     "output_type": "stream",
     "text": [
      "False\n",
      "False\n",
      "False\n",
      "True\n",
      "False\n",
      "False\n",
      "False\n",
      "True\n",
      "True\n",
      "True\n",
      "False\n",
      "True\n",
      "True\n",
      "False\n",
      "6\n"
     ]
    }
   ],
   "source": [
    "from git import *\n",
    "from datetime import datetime, timedelta\n",
    "\n",
    "file = 'tmp/metest.txt'\n",
    "\n",
    "def get_time(t):\n",
    "    return datetime.strptime(t, \"%Y-%m-%dT%H:%M:%SZ\")\n",
    "\n",
    "def check(pull, pullA):\n",
    "    # same author\n",
    "    if pullA[\"user\"][\"id\"] == pull[\"user\"][\"id\"]:\n",
    "        return True\n",
    "\n",
    "    # case of following up work (not sure)\n",
    "    if str(pull[\"number\"]) in (get_pr_and_issue_numbers(pullA[\"title\"]) + \\\n",
    "                               get_pr_and_issue_numbers(pullA[\"body\"])):\n",
    "        return True\n",
    "    \n",
    "    if abs((get_time(pullA[\"updated_at\"]) - get_time(pull[\"updated_at\"])).days) >= 5 * 365: # more than 4 years\n",
    "        return True\n",
    "\n",
    "    return False\n",
    "\n",
    "def c2(pull, pullA):\n",
    "    if (pull[\"merged_at\"] is not None) and (get_time(pull[\"merged_at\"]) < get_time(pullA[\"created_at\"])):\n",
    "        return True\n",
    "    return False\n",
    "\n",
    "num = 0\n",
    "for t in open(file).readlines():\n",
    "    tt = t.split()\n",
    "    r, n1, n2 = tt[0], tt[1], tt[2]\n",
    "    if n1 > n2:\n",
    "        n1, n2 = n2, n1\n",
    "\n",
    "    p1 = get_pull(r, n1)\n",
    "    p2 = get_pull(r, n2)\n",
    "    \n",
    "    z = t.strip()\n",
    "    flag = 'False'\n",
    "    if c2(p1, p2):\n",
    "        z += \" True\"\n",
    "        num += 1\n",
    "        flag = 'True'\n",
    "    \n",
    "    print(flag)\n",
    "\n",
    "print(num)\n"
   ]
  },
  {
   "cell_type": "code",
   "execution_count": null,
   "metadata": {},
   "outputs": [],
   "source": []
  }
 ],
 "metadata": {
  "kernelspec": {
   "display_name": "Python 3",
   "language": "python",
   "name": "python3"
  },
  "language_info": {
   "codemirror_mode": {
    "name": "ipython",
    "version": 3
   },
   "file_extension": ".py",
   "mimetype": "text/x-python",
   "name": "python",
   "nbconvert_exporter": "python",
   "pygments_lexer": "ipython3",
   "version": "3.6.5"
  }
 },
 "nbformat": 4,
 "nbformat_minor": 2
}
