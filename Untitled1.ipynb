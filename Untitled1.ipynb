{
 "cells": [
  {
   "cell_type": "code",
   "execution_count": 5,
   "metadata": {},
   "outputs": [
    {
     "name": "stdout",
     "output_type": "stream",
     "text": [
      "All\n",
      "run get_feature_vector!\n",
      "input= data/rly_false_pairs.txt\n",
      "out= data/rly_false_pairs_feature_vector\n",
      "run get_feature_vector!\n",
      "input= data/small_part_msr.txt\n",
      "out= data/small_part_msr_feature_vector\n",
      "run get_feature_vector!\n",
      "input= data/rly_true_pairs.txt\n",
      "out= data/rly_true_pairs_feature_vector\n",
      "run get_feature_vector!\n",
      "input= data/small_part_negative.txt\n",
      "out= data/small_part_negative_feature_vector\n",
      "run get_feature_vector!\n",
      "input= data/small2_part_msr.txt\n",
      "out= data/small2_part_msr_feature_vector\n",
      "extract= [1, 1, 1, 1, 1, 1]\n",
      "training_set 2504 testing_set 2002 feature_length= 6\n",
      "------ model:  SGDClassifier ------\n",
      "Mean Accuracy: 0.967032967032967\n",
      "Average precision score: 0.8999\n",
      "1\n",
      "1\n",
      "1\n",
      "1\n",
      "1\n",
      "1\n",
      "1\n",
      "1\n",
      "1\n",
      "1\n",
      "1\n",
      "1\n",
      "1\n",
      "1\n"
     ]
    }
   ],
   "source": [
    "from main import *\n",
    "c = classify()\n",
    "\n",
    "with open('tmp/stt2.txt') as f:\n",
    "    for t in f.readlines():\n",
    "        v, n1, n2, z = t.split()\n",
    "        \n",
    "        feature_vector = sim(get_pull(r, n1), get_pull(r, n2))\n",
    "        # results[pull[\"number\"]] = sim_mix(feature_vector)\n",
    "        print(c.predict([feature_vector])[0])\n",
    "        \n",
    "        # print(c.predict_proba([feature_vector])[0][1])\n",
    "        "
   ]
  },
  {
   "cell_type": "code",
   "execution_count": 16,
   "metadata": {},
   "outputs": [],
   "source": [
    "import json\n",
    "# d = json.load(open('data/rly_false_pairs_feature_vector_X.json'))\n",
    "d = json.load(open('data/rly_false_pairs_feature_vector_test_on_more_feature_X.json'))\n",
    "\n",
    "# d2 = json.load(open('data/small_part_msr_feature_vector_X.json'))\n",
    "d2 = json.load(open('data/small_part_msr_feature_vector_test_on_more_feature_X.json'))\n",
    "\n",
    "with open('tmp/r_style2.txt', 'w') as f:\n",
    "    z = ['title', 'desc', 'code', 'file_list', 'location', 'pattern', \"overlap_len\", \"label\"]\n",
    "    print(\";\".join(z), file=f)\n",
    "    for x in d:\n",
    "        print(\";\".join([str(t) for t in x] + ['0']), file=f)\n",
    "    for x in d2:\n",
    "        print(\";\".join([str(t) for t in x] + ['1']), file=f)\n",
    "    \n",
    "    "
   ]
  },
  {
   "cell_type": "code",
   "execution_count": null,
   "metadata": {},
   "outputs": [],
   "source": []
  }
 ],
 "metadata": {
  "kernelspec": {
   "display_name": "Python 3",
   "language": "python",
   "name": "python3"
  },
  "language_info": {
   "codemirror_mode": {
    "name": "ipython",
    "version": 3
   },
   "file_extension": ".py",
   "mimetype": "text/x-python",
   "name": "python",
   "nbconvert_exporter": "python",
   "pygments_lexer": "ipython3",
   "version": "3.6.5"
  }
 },
 "nbformat": 4,
 "nbformat_minor": 2
}
