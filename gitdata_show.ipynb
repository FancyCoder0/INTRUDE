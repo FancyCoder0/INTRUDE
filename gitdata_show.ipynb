{
 "cells": [
  {
   "cell_type": "code",
   "execution_count": 9,
   "metadata": {},
   "outputs": [
    {
     "name": "stdout",
     "output_type": "stream",
     "text": [
      "angular/angular.js\t29025\t7773\t112\tJavaScript\t59145\t3198\n",
      "mozilla-b2g/gaia\t2426\t31577\t38\tJavaScript\t2068\t2593\n",
      "ansible/ansible\t13047\t24348\t103\tPython\t33022\t2407\n",
      "ceph/ceph\t2683\t24456\t104\tC++\t5141\t2594\n",
      "kubernetes/kubernetes\t14701\t38500\t213\tGo\t42358\t1585\n",
      "cocos2d/cocos2d-x\t6587\t14736\t57\tC++\t12421\t2881\n",
      "django/django\t15821\t10178\t55\tPython\t36895\t2355\n",
      "moby/moby\t14732\t18837\t61\tGo\t50623\t2089\n",
      "dotnet/corefx\t4369\t17663\t30\tC#\t14915\t1432\n",
      "elastic/elasticsearch\t11859\t15364\t62\tJava\t35012\t3164\n",
      "emberjs/ember.js\t4041\t7555\t46\tJavaScript\t20080\t2693\n",
      "facebook/react\t20225\t6978\t74\tJavaScript\t112747\t1963\n",
      "hashicorp/terraform\t4160\t8078\t52\tGo\t13747\t1670\n",
      "joomla/joomla-cms\t2768\t13974\t152\tPHP\t2937\t2569\n",
      "JuliaLang/julia\t3002\t14556\t42\tJulia\t17912\t2728\n",
      "nodejs/node\t11538\t12828\t104\tJavaScript\t54145\t1412\n",
      "saltstack/salt\t4325\t29659\t47\tPython\t9276\t2787\n",
      "pandas-dev/pandas\t6590\t9112\t49\tPython\t16328\t2968\n",
      "rails/rails\t16602\t21751\t199\tRuby\t41072\t3833\n",
      "rust-lang/rust\t5222\t26497\t107\tRust\t31059\t3036\n",
      "scikit-learn/scikit-learn\t15315\t6116\t68\tPython\t30978\t2975\n",
      "servo/servo\t1966\t12761\t52\tRust\t12536\t2434\n",
      "symfony/symfony\t6446\t16920\t216\tPHP\t18773\t3199\n",
      "symfony/symfony-docs\t3684\t7654\t100\tPHP\t1494\t3156\n",
      "twbs/bootstrap\t62492\t8984\t127\tCSS\t127870\t2628\n",
      "zendframework/zendframework\t2937\t5632\t53\tNone\t5655\t3049\n"
     ]
    }
   ],
   "source": [
    "from git import *\n",
    "\n",
    "from datetime import datetime, timedelta\n",
    "\n",
    "def get_time(t):\n",
    "    return datetime.strptime(t, \"%Y-%m-%dT%H:%M:%SZ\")\n",
    "\n",
    "c = {}\n",
    "with open('data/clf/msr_positive_pairs.txt') as f:\n",
    "    for t in f.readlines():\n",
    "        r, n1, n2 = t.split()\n",
    "        if r not in c:\n",
    "            c[r] = 0\n",
    "        c[r] += 1\n",
    "\n",
    "with open('data/msr_repo_list.txt') as f:\n",
    "    for t in f.readlines():\n",
    "        r = t.strip()\n",
    "        \n",
    "        t = api.get('repos/%s' % r)\n",
    "        \n",
    "        pulls = get_repo_info(r, 'pull')\n",
    "        \n",
    "        run_days = (datetime.now() - get_time(t['created_at'])).days\n",
    "        \n",
    "        print(t['full_name'], t['forks'], len(pulls), c[r], t['language'], t['stargazers_count'], run_days, sep='\\t')\n",
    "        \n",
    "        "
   ]
  },
  {
   "cell_type": "code",
   "execution_count": null,
   "metadata": {},
   "outputs": [],
   "source": []
  }
 ],
 "metadata": {
  "kernelspec": {
   "display_name": "Python 3",
   "language": "python",
   "name": "python3"
  },
  "language_info": {
   "codemirror_mode": {
    "name": "ipython",
    "version": 3
   },
   "file_extension": ".py",
   "mimetype": "text/x-python",
   "name": "python",
   "nbconvert_exporter": "python",
   "pygments_lexer": "ipython3",
   "version": "3.6.5"
  }
 },
 "nbformat": 4,
 "nbformat_minor": 2
}
